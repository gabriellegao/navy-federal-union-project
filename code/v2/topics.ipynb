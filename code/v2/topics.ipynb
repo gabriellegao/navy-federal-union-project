{
 "cells": [
  {
   "cell_type": "code",
   "execution_count": 1,
   "metadata": {},
   "outputs": [],
   "source": [
    "from preprocessing import load_data, extract_freqs, extract_tfidf\n",
    "import topic_mining"
   ]
  },
  {
   "cell_type": "code",
   "execution_count": 2,
   "metadata": {},
   "outputs": [
    {
     "name": "stdout",
     "output_type": "stream",
     "text": [
      "Attempting to load normalized dataset...\n",
      "Returning normalized dataset.\n"
     ]
    }
   ],
   "source": [
    "df = load_data()"
   ]
  },
  {
   "cell_type": "code",
   "execution_count": 3,
   "metadata": {
    "scrolled": true
   },
   "outputs": [
    {
     "data": {
      "text/html": [
       "<div>\n",
       "<style scoped>\n",
       "    .dataframe tbody tr th:only-of-type {\n",
       "        vertical-align: middle;\n",
       "    }\n",
       "\n",
       "    .dataframe tbody tr th {\n",
       "        vertical-align: top;\n",
       "    }\n",
       "\n",
       "    .dataframe thead th {\n",
       "        text-align: right;\n",
       "    }\n",
       "</style>\n",
       "<table border=\"1\" class=\"dataframe\">\n",
       "  <thead>\n",
       "    <tr style=\"text-align: right;\">\n",
       "      <th></th>\n",
       "      <th>IDNew</th>\n",
       "      <th>SocialNetwork</th>\n",
       "      <th>SenderUserId</th>\n",
       "      <th>FollowersCount</th>\n",
       "      <th>Message</th>\n",
       "      <th>CreatedTime</th>\n",
       "      <th>MessageType</th>\n",
       "      <th>NormalizedMessage</th>\n",
       "    </tr>\n",
       "  </thead>\n",
       "  <tbody>\n",
       "    <tr>\n",
       "      <th>0</th>\n",
       "      <td>4.158647e+09</td>\n",
       "      <td>TWITTER</td>\n",
       "      <td>1.150201e+18</td>\n",
       "      <td>99</td>\n",
       "      <td>Hey @NavyFederalHelp @NavyFederal are you guys...</td>\n",
       "      <td>2020-01-30 19:09:07.795</td>\n",
       "      <td>Twitter Mention</td>\n",
       "      <td>hey are you guys compatible with the security ...</td>\n",
       "    </tr>\n",
       "    <tr>\n",
       "      <th>1</th>\n",
       "      <td>4.158647e+09</td>\n",
       "      <td>TWITTER</td>\n",
       "      <td>1.150201e+18</td>\n",
       "      <td>99</td>\n",
       "      <td>Hey @NavyFederalHelp @NavyFederal are you guys...</td>\n",
       "      <td>2020-01-30 19:09:07.795</td>\n",
       "      <td>Twitter Mention</td>\n",
       "      <td>hey are you guys compatible with the security ...</td>\n",
       "    </tr>\n",
       "    <tr>\n",
       "      <th>2</th>\n",
       "      <td>4.131474e+09</td>\n",
       "      <td>TWITTER</td>\n",
       "      <td>8.765216e+17</td>\n",
       "      <td>407</td>\n",
       "      <td>@NavyFederal You’re welcome. Tons of locals wi...</td>\n",
       "      <td>2020-01-30 19:07:55.126</td>\n",
       "      <td>Twitter Reply</td>\n",
       "      <td>you are welcome tons of locals with nf in the ...</td>\n",
       "    </tr>\n",
       "    <tr>\n",
       "      <th>3</th>\n",
       "      <td>4.131474e+09</td>\n",
       "      <td>TWITTER</td>\n",
       "      <td>8.765216e+17</td>\n",
       "      <td>407</td>\n",
       "      <td>@NavyFederal please put a location in Daytona ...</td>\n",
       "      <td>2020-01-30 19:01:02.803</td>\n",
       "      <td>Twitter Mention</td>\n",
       "      <td>please put a location in daytona thanks</td>\n",
       "    </tr>\n",
       "    <tr>\n",
       "      <th>4</th>\n",
       "      <td>2.066183e+09</td>\n",
       "      <td>TWITTER</td>\n",
       "      <td>9.404094e+08</td>\n",
       "      <td>1079</td>\n",
       "      <td>@NavyFederal i’m bout SICK of yall.</td>\n",
       "      <td>2020-01-30 17:53:31.435</td>\n",
       "      <td>Twitter Mention</td>\n",
       "      <td>i am bout sick of yall</td>\n",
       "    </tr>\n",
       "    <tr>\n",
       "      <th>5</th>\n",
       "      <td>2.110529e+09</td>\n",
       "      <td>TWITTER</td>\n",
       "      <td>1.465241e+09</td>\n",
       "      <td>109125</td>\n",
       "      <td>Davide Moretti drove his way through the lane ...</td>\n",
       "      <td>2020-01-30 17:20:00.257</td>\n",
       "      <td>Twitter Mention</td>\n",
       "      <td>davide moretti drove his way through the lane ...</td>\n",
       "    </tr>\n",
       "    <tr>\n",
       "      <th>6</th>\n",
       "      <td>1.985451e+09</td>\n",
       "      <td>TWITTER</td>\n",
       "      <td>4.194737e+08</td>\n",
       "      <td>3755</td>\n",
       "      <td>@TheNCUA how is it @NavyFederal  can disable a...</td>\n",
       "      <td>2020-01-30 17:09:14.505</td>\n",
       "      <td>Twitter Mention</td>\n",
       "      <td>how is it can disable all tabs and disable my ...</td>\n",
       "    </tr>\n",
       "    <tr>\n",
       "      <th>7</th>\n",
       "      <td>4.162829e+09</td>\n",
       "      <td>TWITTER</td>\n",
       "      <td>1.199326e+18</td>\n",
       "      <td>1</td>\n",
       "      <td>@defenseupdate @IDFSpokesperson @chicagoGDC @H...</td>\n",
       "      <td>2020-01-30 17:00:29.424</td>\n",
       "      <td>Twitter Mention</td>\n",
       "      <td>defense apac pga</td>\n",
       "    </tr>\n",
       "    <tr>\n",
       "      <th>8</th>\n",
       "      <td>1.985451e+09</td>\n",
       "      <td>TWITTER</td>\n",
       "      <td>4.194737e+08</td>\n",
       "      <td>3755</td>\n",
       "      <td>Gee Navy Federal Is A Bank Of Be Best Aint it ...</td>\n",
       "      <td>2020-01-30 17:00:11.694</td>\n",
       "      <td>Twitter Mention</td>\n",
       "      <td>gee navy federal is a bank of be best aint it ...</td>\n",
       "    </tr>\n",
       "    <tr>\n",
       "      <th>9</th>\n",
       "      <td>1.958612e+09</td>\n",
       "      <td>TWITTER</td>\n",
       "      <td>3.207328e+08</td>\n",
       "      <td>993</td>\n",
       "      <td>@mac_10k @NavyFederal We good here. Thanks but...</td>\n",
       "      <td>2020-01-30 16:37:24.573</td>\n",
       "      <td>Twitter Mention</td>\n",
       "      <td>k we good here thanks but no thanks</td>\n",
       "    </tr>\n",
       "  </tbody>\n",
       "</table>\n",
       "</div>"
      ],
      "text/plain": [
       "          IDNew SocialNetwork  SenderUserId  FollowersCount  \\\n",
       "0  4.158647e+09       TWITTER  1.150201e+18              99   \n",
       "1  4.158647e+09       TWITTER  1.150201e+18              99   \n",
       "2  4.131474e+09       TWITTER  8.765216e+17             407   \n",
       "3  4.131474e+09       TWITTER  8.765216e+17             407   \n",
       "4  2.066183e+09       TWITTER  9.404094e+08            1079   \n",
       "5  2.110529e+09       TWITTER  1.465241e+09          109125   \n",
       "6  1.985451e+09       TWITTER  4.194737e+08            3755   \n",
       "7  4.162829e+09       TWITTER  1.199326e+18               1   \n",
       "8  1.985451e+09       TWITTER  4.194737e+08            3755   \n",
       "9  1.958612e+09       TWITTER  3.207328e+08             993   \n",
       "\n",
       "                                             Message              CreatedTime  \\\n",
       "0  Hey @NavyFederalHelp @NavyFederal are you guys...  2020-01-30 19:09:07.795   \n",
       "1  Hey @NavyFederalHelp @NavyFederal are you guys...  2020-01-30 19:09:07.795   \n",
       "2  @NavyFederal You’re welcome. Tons of locals wi...  2020-01-30 19:07:55.126   \n",
       "3  @NavyFederal please put a location in Daytona ...  2020-01-30 19:01:02.803   \n",
       "4                @NavyFederal i’m bout SICK of yall.  2020-01-30 17:53:31.435   \n",
       "5  Davide Moretti drove his way through the lane ...  2020-01-30 17:20:00.257   \n",
       "6  @TheNCUA how is it @NavyFederal  can disable a...  2020-01-30 17:09:14.505   \n",
       "7  @defenseupdate @IDFSpokesperson @chicagoGDC @H...  2020-01-30 17:00:29.424   \n",
       "8  Gee Navy Federal Is A Bank Of Be Best Aint it ...  2020-01-30 17:00:11.694   \n",
       "9  @mac_10k @NavyFederal We good here. Thanks but...  2020-01-30 16:37:24.573   \n",
       "\n",
       "       MessageType                                  NormalizedMessage  \n",
       "0  Twitter Mention  hey are you guys compatible with the security ...  \n",
       "1  Twitter Mention  hey are you guys compatible with the security ...  \n",
       "2    Twitter Reply  you are welcome tons of locals with nf in the ...  \n",
       "3  Twitter Mention            please put a location in daytona thanks  \n",
       "4  Twitter Mention                             i am bout sick of yall  \n",
       "5  Twitter Mention  davide moretti drove his way through the lane ...  \n",
       "6  Twitter Mention  how is it can disable all tabs and disable my ...  \n",
       "7  Twitter Mention                                   defense apac pga  \n",
       "8  Twitter Mention  gee navy federal is a bank of be best aint it ...  \n",
       "9  Twitter Mention                k we good here thanks but no thanks  "
      ]
     },
     "execution_count": 3,
     "metadata": {},
     "output_type": "execute_result"
    }
   ],
   "source": [
    "df.head(10)"
   ]
  },
  {
   "cell_type": "code",
   "execution_count": 5,
   "metadata": {},
   "outputs": [],
   "source": [
    "from nltk.corpus import stopwords\n",
    "stop_words = list(stopwords.words('english')) + [\"navy\", \"federal\", \"com\", \"twitter\"]\n",
    "\n",
    "doc_term_mat, co_occ_mat, cvec = extract_tfidf(df.NormalizedMessage.astype(str), stop_words=stop_words, max_features=1000, min_df=0.05)"
   ]
  },
  {
   "cell_type": "code",
   "execution_count": 6,
   "metadata": {},
   "outputs": [
    {
     "data": {
      "text/plain": [
       "156213"
      ]
     },
     "execution_count": 6,
     "metadata": {},
     "output_type": "execute_result"
    }
   ],
   "source": [
    "long_messages = df.NormalizedMessage.astype(str)[df.NormalizedMessage.astype(str).apply(lambda s: len(s.split(' '))>8)]#.head(1000)\n",
    "len(long_messages)"
   ]
  },
  {
   "cell_type": "code",
   "execution_count": 9,
   "metadata": {},
   "outputs": [
    {
     "name": "stdout",
     "output_type": "stream",
     "text": [
      "Took 83.21387815475464 to extract topics!\n"
     ]
    }
   ],
   "source": [
    "import time\n",
    "start = time.time()\n",
    "topics = topic_mining.extract_topics_lda(cvec, long_messages)\n",
    "print(\"Took \" + str(time.time()-start) + \" to extract topics!\")"
   ]
  },
  {
   "cell_type": "code",
   "execution_count": 10,
   "metadata": {},
   "outputs": [
    {
     "data": {
      "text/plain": [
       "[['need',\n",
       "  'would',\n",
       "  'help',\n",
       "  'know',\n",
       "  'account',\n",
       "  'one',\n",
       "  'like',\n",
       "  'time',\n",
       "  'money',\n",
       "  'us'],\n",
       " ['money',\n",
       "  'card',\n",
       "  'credit',\n",
       "  'get',\n",
       "  'would',\n",
       "  'account',\n",
       "  'nfcu',\n",
       "  'time',\n",
       "  'call',\n",
       "  'like'],\n",
       " ['credit',\n",
       "  'union',\n",
       "  'would',\n",
       "  'us',\n",
       "  'service',\n",
       "  'account',\n",
       "  'like',\n",
       "  'thank',\n",
       "  'nfcu',\n",
       "  'call'],\n",
       " ['get',\n",
       "  'call',\n",
       "  'help',\n",
       "  'us',\n",
       "  'need',\n",
       "  'would',\n",
       "  'time',\n",
       "  'account',\n",
       "  'like',\n",
       "  'one'],\n",
       " ['thank',\n",
       "  'service',\n",
       "  'would',\n",
       "  'us',\n",
       "  'like',\n",
       "  'time',\n",
       "  'call',\n",
       "  'help',\n",
       "  'account',\n",
       "  'nfcu'],\n",
       " ['thanks',\n",
       "  'know',\n",
       "  'us',\n",
       "  'would',\n",
       "  'like',\n",
       "  'please',\n",
       "  'help',\n",
       "  'time',\n",
       "  'service',\n",
       "  'account'],\n",
       " ['nfcu',\n",
       "  'like',\n",
       "  'help',\n",
       "  'would',\n",
       "  'us',\n",
       "  'account',\n",
       "  'one',\n",
       "  'time',\n",
       "  'service',\n",
       "  'credit'],\n",
       " ['cards',\n",
       "  'one',\n",
       "  'would',\n",
       "  'credit',\n",
       "  'card',\n",
       "  'like',\n",
       "  'time',\n",
       "  'us',\n",
       "  'call',\n",
       "  'account'],\n",
       " ['us',\n",
       "  'please',\n",
       "  'call',\n",
       "  'would',\n",
       "  'like',\n",
       "  'help',\n",
       "  'account',\n",
       "  'thanks',\n",
       "  'time',\n",
       "  'card'],\n",
       " ['account',\n",
       "  'time',\n",
       "  'would',\n",
       "  'call',\n",
       "  'get',\n",
       "  'money',\n",
       "  'one',\n",
       "  'like',\n",
       "  'help',\n",
       "  'credit']]"
      ]
     },
     "execution_count": 10,
     "metadata": {},
     "output_type": "execute_result"
    }
   ],
   "source": [
    "topics"
   ]
  },
  {
   "cell_type": "markdown",
   "metadata": {},
   "source": [
    "<h4>"
   ]
  },
  {
   "cell_type": "code",
   "execution_count": 1,
   "metadata": {},
   "outputs": [],
   "source": [
    "from gensim.models import Word2Vec"
   ]
  },
  {
   "cell_type": "code",
   "execution_count": 2,
   "metadata": {},
   "outputs": [],
   "source": [
    "from nltk.corpus import abc\n",
    "import nltk\n",
    "from sklearn.decomposition import PCA\n",
    "from matplotlib import pyplot"
   ]
  },
  {
   "cell_type": "code",
   "execution_count": 3,
   "metadata": {},
   "outputs": [],
   "source": [
    "model= Word2Vec(abc.sents())\n",
    "#X= list(model.wv.vocab)\n",
    "#data=model.most_similar('science')"
   ]
  },
  {
   "cell_type": "code",
   "execution_count": 4,
   "metadata": {},
   "outputs": [
    {
     "name": "stderr",
     "output_type": "stream",
     "text": [
      "<ipython-input-4-b7598cdfbf81>:1: DeprecationWarning: Call to deprecated `__getitem__` (Method will be removed in 4.0.0, use self.wv.__getitem__() instead).\n",
      "  X = model[model.wv.vocab]\n"
     ]
    },
    {
     "data": {
      "image/png": "[encoded data removed]",
      "text/plain": [
       "<Figure size 432x288 with 1 Axes>"
      ]
     },
     "metadata": {
      "needs_background": "light"
     },
     "output_type": "display_data"
    }
   ],
   "source": [
    "X = model[model.wv.vocab]\n",
    "pca = PCA(n_components=2)\n",
    "result = pca.fit_transform(X)\n",
    "# create a scatter plot of the projection\n",
    "pyplot.scatter(result[:, 0], result[:, 1])\n",
    "words = list(model.wv.vocab)\n",
    "for i, word in enumerate(words):\n",
    "    pyplot.annotate(word, xy=(result[i, 0], result[i, 1]))\n",
    "pyplot.show()"
   ]
  },
  {
   "cell_type": "code",
   "execution_count": 9,
   "metadata": {},
   "outputs": [],
   "source": [
    "doc_term_mat, co_occ_mat, cvec = extract_tfidf(df.NormalizedMessage.astype(str), stop_words=stop_words, max_features=1000, min_df=0.05)\n",
    "clusters = topic_mining.compute_clusters(doc_term_mat)"
   ]
  },
  {
   "cell_type": "code",
   "execution_count": 23,
   "metadata": {},
   "outputs": [],
   "source": [
    "import numpy, pandas\n",
    "\n",
    "from sklearn.feature_extraction.text import CountVectorizer, TfidfVectorizer\n",
    "from sklearn.decomposition import LatentDirichletAllocation as LDA\n",
    "from sklearn.cluster import KMeans\n",
    "\n",
    "from nltk.corpus import stopwords\n",
    "\n",
    "docs = pandas.read_csv('../../data/dataset.csv').NormalizedMessage.astype(str)\n",
    "stop_words = list(stopwords.words('english'))\n",
    "vec = TfidfVectorizer(stop_words=stop_words)\n",
    "doc_term_mat = vec.fit_transform(docs)"
   ]
  },
  {
   "cell_type": "code",
   "execution_count": null,
   "metadata": {},
   "outputs": [],
   "source": [
    "kmeans = KMeans(n_clusters=10, random_state=0).fit(doc_term_mat)"
   ]
  },
  {
   "cell_type": "code",
   "execution_count": null,
   "metadata": {},
   "outputs": [],
   "source": []
  }
 ],
 "metadata": {
  "kernelspec": {
   "display_name": "Python 3",
   "language": "python",
   "name": "python3"
  },
  "language_info": {
   "codemirror_mode": {
    "name": "ipython",
    "version": 3
   },
   "file_extension": ".py",
   "mimetype": "text/x-python",
   "name": "python",
   "nbconvert_exporter": "python",
   "pygments_lexer": "ipython3",
   "version": "3.8.2"
  }
 },
 "nbformat": 4,
 "nbformat_minor": 2
}

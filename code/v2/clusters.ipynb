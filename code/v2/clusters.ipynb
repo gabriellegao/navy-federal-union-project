{
 "cells": [
  {
   "cell_type": "code",
   "execution_count": 1,
   "metadata": {},
   "outputs": [],
   "source": [
    "import numpy, pandas, time\n",
    "from sklearn.feature_extraction.text import CountVectorizer, TfidfVectorizer\n",
    "from sklearn.decomposition import LatentDirichletAllocation as LDA\n",
    "from sklearn.cluster import KMeans\n",
    "from nltk.corpus import stopwords\n",
    "from sklearn.utils import shuffle\n",
    "from sklearn.decomposition import TruncatedSVD"
   ]
  },
  {
   "cell_type": "code",
   "execution_count": 3,
   "metadata": {},
   "outputs": [],
   "source": [
    "docs = shuffle(pandas.read_csv('../../data/dataset_old.csv').NormalizedMessage.astype(str))\n",
    "stop_words = list(stopwords.words('english')) + [\"navy\", \"federal\", \"credit\", \"union\"]\n",
    "vec = TfidfVectorizer(stop_words=stop_words)\n",
    "doc_term_mat = vec.fit_transform(docs.head(100000))"
   ]
  },
  {
   "cell_type": "code",
   "execution_count": 4,
   "metadata": {},
   "outputs": [
    {
     "name": "stdout",
     "output_type": "stream",
     "text": [
      "Took 7.546389818191528 seconds to perform TruncatedSVD.\n"
     ]
    }
   ],
   "source": [
    "start_time = time.time()\n",
    "pca = TruncatedSVD(n_components=100)\n",
    "result = pca.fit_transform(doc_term_mat)\n",
    "print(\"Took \" + str(time.time()-start_time) + \" seconds to perform TruncatedSVD.\")"
   ]
  },
  {
   "cell_type": "code",
   "execution_count": 5,
   "metadata": {},
   "outputs": [
    {
     "data": {
      "text/plain": [
       "(100000, 100)"
      ]
     },
     "execution_count": 5,
     "metadata": {},
     "output_type": "execute_result"
    }
   ],
   "source": [
    "numpy.shape(result)"
   ]
  },
  {
   "cell_type": "code",
   "execution_count": 6,
   "metadata": {},
   "outputs": [
    {
     "name": "stdout",
     "output_type": "stream",
     "text": [
      "Took 52.631526708602905 seconds to compute clusters.\n"
     ]
    }
   ],
   "source": [
    "start_time = time.time()\n",
    "kmeans = KMeans(n_clusters=2, random_state=0, n_init=100).fit(result)\n",
    "print(\"Took \" + str(time.time()-start_time) + \" seconds to compute clusters.\")"
   ]
  },
  {
   "cell_type": "code",
   "execution_count": 7,
   "metadata": {},
   "outputs": [],
   "source": [
    "def extract_topics_lda(words, doc_term_mat, number_topics = 10, number_words = 10):\n",
    "    # Create and fit the LDA model\n",
    "    lda = LDA(n_components=number_topics, n_jobs=-1)\n",
    "    lda.fit(doc_term_mat)\n",
    "    # Print the topics found by the LDA model\n",
    "    topics = []\n",
    "    for topic in lda.components_:\n",
    "        topics.append([words[i] for i in topic.argsort()[:-number_words - 1:-1]])\n",
    "    return topics"
   ]
  },
  {
   "cell_type": "code",
   "execution_count": 8,
   "metadata": {},
   "outputs": [],
   "source": [
    "doc_term_mat1 = doc_term_mat[[i for i in range(numpy.shape(doc_term_mat)[0]) if kmeans.labels_[i]==0]]\n",
    "doc_term_mat2 = doc_term_mat[[i for i in range(numpy.shape(doc_term_mat)[0]) if kmeans.labels_[i]==1]]\n",
    "#doc_term_mat3 = doc_term_mat[[i for i in range(numpy.shape(doc_term_mat)[0]) if kmeans.labels_[i]==2]]\n",
    "#doc_term_mat4 = doc_term_mat[[i for i in range(numpy.shape(doc_term_mat)[0]) if kmeans.labels_[i]==3]]\n",
    "#doc_term_mat5 = doc_term_mat[[i for i in range(numpy.shape(doc_term_mat)[0]) if kmeans.labels_[i]==4]]"
   ]
  },
  {
   "cell_type": "code",
   "execution_count": 9,
   "metadata": {},
   "outputs": [
    {
     "name": "stdout",
     "output_type": "stream",
     "text": [
      "Took 19.17492914199829 seconds to compute topics by cluster.\n"
     ]
    }
   ],
   "source": [
    "start_time = time.time()\n",
    "words = vec.get_feature_names()\n",
    "topics1 = extract_topics_lda(words, doc_term_mat1, number_topics=1, number_words=10)\n",
    "topics2 = extract_topics_lda(words, doc_term_mat2, number_topics=1, number_words=10)\n",
    "#topics3 = extract_topics_lda(words, doc_term_mat3, number_topics=1, number_words=4)\n",
    "#topics4 = extract_topics_lda(words, doc_term_mat4, number_topics=1, number_words=4)\n",
    "#topics5 = extract_topics_lda(words, doc_term_mat5, number_topics=1, number_words=4)\n",
    "\n",
    "print(\"Took \" + str(time.time()-start_time) + \" seconds to compute topics by cluster.\")"
   ]
  },
  {
   "cell_type": "code",
   "execution_count": 10,
   "metadata": {},
   "outputs": [],
   "source": [
    "topics = pandas.DataFrame(data={\n",
    "    'cluster1_topics': topics1[0], \n",
    "    'cluster2_topics': topics2[0]#,\n",
    "    #'cluster3_topics': topics3[0]#,  \n",
    "    #'cluster4_topics': topics4[0], \n",
    "    #'cluster5_topics': topics5[0]\n",
    "})"
   ]
  },
  {
   "cell_type": "code",
   "execution_count": 11,
   "metadata": {},
   "outputs": [
    {
     "data": {
      "text/html": [
       "<div>\n",
       "<style scoped>\n",
       "    .dataframe tbody tr th:only-of-type {\n",
       "        vertical-align: middle;\n",
       "    }\n",
       "\n",
       "    .dataframe tbody tr th {\n",
       "        vertical-align: top;\n",
       "    }\n",
       "\n",
       "    .dataframe thead th {\n",
       "        text-align: right;\n",
       "    }\n",
       "</style>\n",
       "<table border=\"1\" class=\"dataframe\">\n",
       "  <thead>\n",
       "    <tr style=\"text-align: right;\">\n",
       "      <th></th>\n",
       "      <th>cluster1_topics</th>\n",
       "      <th>cluster2_topics</th>\n",
       "    </tr>\n",
       "  </thead>\n",
       "  <tbody>\n",
       "    <tr>\n",
       "      <th>0</th>\n",
       "      <td>thank</td>\n",
       "      <td>nan</td>\n",
       "    </tr>\n",
       "    <tr>\n",
       "      <th>1</th>\n",
       "      <td>cards</td>\n",
       "      <td>zzzzs</td>\n",
       "    </tr>\n",
       "    <tr>\n",
       "      <th>2</th>\n",
       "      <td>thanks</td>\n",
       "      <td>fuuuu</td>\n",
       "    </tr>\n",
       "    <tr>\n",
       "      <th>3</th>\n",
       "      <td>us</td>\n",
       "      <td>fuzzies</td>\n",
       "    </tr>\n",
       "  </tbody>\n",
       "</table>\n",
       "</div>"
      ],
      "text/plain": [
       "  cluster1_topics cluster2_topics\n",
       "0           thank             nan\n",
       "1           cards           zzzzs\n",
       "2          thanks           fuuuu\n",
       "3              us         fuzzies"
      ]
     },
     "execution_count": 11,
     "metadata": {},
     "output_type": "execute_result"
    }
   ],
   "source": [
    "topics"
   ]
  },
  {
   "cell_type": "code",
   "execution_count": null,
   "metadata": {},
   "outputs": [],
   "source": []
  }
 ],
 "metadata": {
  "kernelspec": {
   "display_name": "Python 3",
   "language": "python",
   "name": "python3"
  },
  "language_info": {
   "codemirror_mode": {
    "name": "ipython",
    "version": 3
   },
   "file_extension": ".py",
   "mimetype": "text/x-python",
   "name": "python",
   "nbconvert_exporter": "python",
   "pygments_lexer": "ipython3",
   "version": "3.8.2"
  }
 },
 "nbformat": 4,
 "nbformat_minor": 4
}

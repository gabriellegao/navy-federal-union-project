{
 "cells": [
  {
   "cell_type": "code",
   "execution_count": 57,
   "metadata": {},
   "outputs": [],
   "source": [
    "import os\n",
    "import time\n",
    "import pandas as pd\n",
    "import numpy as np\n",
    "import datetime\n",
    "from sklearn.feature_extraction.text import CountVectorizer\n",
    "from sklearn.feature_extraction.text import TfidfVectorizer\n",
    "from sklearn import decomposition\n",
    "from sklearn.decomposition import LatentDirichletAllocation as LDA\n",
    "from nltk.corpus import stopwords\n",
    "from pylab import plt\n",
    "from matplotlib.pyplot import plot"
   ]
  },
  {
   "cell_type": "code",
   "execution_count": 43,
   "metadata": {},
   "outputs": [
    {
     "name": "stdout",
     "output_type": "stream",
     "text": [
      "Corpus Read\n",
      "39749\n"
     ]
    }
   ],
   "source": [
    "# Read the dataset\n",
    "\n",
    "dataset = pd.read_csv('label_neu.csv', encoding='utf8')\n",
    "\n",
    "# x = datetime.datetime(2019, 1, 11)\n",
    "\n",
    "# corpus = dataset[pd.to_datetime(dataset.CreatedTime) > x]\n",
    "\n",
    "print('Corpus Read')\n",
    "print(len(corpus))"
   ]
  },
  {
   "cell_type": "code",
   "execution_count": 58,
   "metadata": {},
   "outputs": [
    {
     "name": "stdout",
     "output_type": "stream",
     "text": [
      "Negative Corpus Read\n",
      "61873\n",
      "                                                   tweet  compound    neg  \\\n",
      "0                please put a location in daytona thanks    0.6369  0.000   \n",
      "1      how is it can disable all tabs and disable my ...    0.7181  0.053   \n",
      "2                    k we good here thanks but no thanks    0.6059  0.207   \n",
      "3      ways to manage multiple corporate offices and ...    0.8074  0.000   \n",
      "4                       atm rebate is the best thank you    0.7717  0.000   \n",
      "...                                                  ...       ...    ...   \n",
      "61868  have to say when i call i always get amazing c...    0.7650  0.000   \n",
      "61869  do not think anyone will want to see me write ...    0.7783  0.000   \n",
      "61870        thanks same to all of you god bless you all    0.7783  0.000   \n",
      "61871  navy federal has stood beside me i needed a ca...    0.6369  0.000   \n",
      "61872  happy new years i pray my loan gets approved t...    0.8316  0.000   \n",
      "\n",
      "         neu    pos  label  \n",
      "0      0.435  0.565      1  \n",
      "1      0.756  0.191      1  \n",
      "2      0.221  0.572      1  \n",
      "3      0.781  0.219      1  \n",
      "4      0.427  0.573      1  \n",
      "...      ...    ...    ...  \n",
      "61868  0.680  0.320      1  \n",
      "61869  0.709  0.291      1  \n",
      "61870  0.473  0.527      1  \n",
      "61871  0.826  0.174      1  \n",
      "61872  0.614  0.386      1  \n",
      "\n",
      "[61873 rows x 6 columns]\n"
     ]
    }
   ],
   "source": [
    "dataset = pd.read_csv('label_pos.csv', encoding='utf8')\n",
    "dataset.head(10)\n",
    "corpus = dataset[dataset['label'] == 1]\n",
    "\n",
    "print('Negative Corpus Read')\n",
    "print(len(corpus))\n",
    "print(corpus)"
   ]
  },
  {
   "cell_type": "code",
   "execution_count": 59,
   "metadata": {},
   "outputs": [
    {
     "name": "stdout",
     "output_type": "stream",
     "text": [
      "<class 'numpy.ndarray'>\n",
      "please put location daytona thanks\n",
      "61873\n"
     ]
    }
   ],
   "source": [
    "# Filter short length word\n",
    "\n",
    "corpus = corpus.tweet.values.astype('U')\n",
    "\n",
    "count = 0\n",
    "for document in corpus:\n",
    "    words_list = document.split()\n",
    "    ##print(words_list)\n",
    "    resultwords  = [word for word in words_list if len(word) > 2]\n",
    "    corpus[count] = ' '.join(resultwords)\n",
    "    count += 1\n",
    "    \n",
    "print(type(corpus))\n",
    "print(corpus[0])\n",
    "print(len(corpus))"
   ]
  },
  {
   "cell_type": "code",
   "execution_count": 61,
   "metadata": {},
   "outputs": [],
   "source": [
    "## Filter stop word\n",
    "\n",
    "stop_words = set(stopwords.words('english'))\n",
    "\n",
    "stop_words.add('navy')\n",
    "stop_words.add('navyfederal')\n",
    "stop_words.add('federal')"
   ]
  },
  {
   "cell_type": "code",
   "execution_count": 62,
   "metadata": {},
   "outputs": [
    {
     "name": "stdout",
     "output_type": "stream",
     "text": [
      "[[0. 0. 0. ... 0. 0. 0.]\n",
      " [0. 0. 0. ... 0. 0. 0.]\n",
      " [0. 0. 0. ... 0. 0. 0.]\n",
      " ...\n",
      " [0. 0. 0. ... 0. 0. 0.]\n",
      " [0. 0. 0. ... 0. 0. 0.]\n",
      " [0. 0. 0. ... 0. 0. 0.]]\n",
      "(61873, 7000)\n",
      "['aaron' 'abby' 'abilene' ... 'zombies' 'zone' 'zulu']\n",
      "7000\n"
     ]
    }
   ],
   "source": [
    "# Vector\n",
    "\n",
    "vectorizer = TfidfVectorizer(binary = True, max_features = 7000, stop_words=stop_words, ngram_range = (1,1))\n",
    "\n",
    "X = vectorizer.fit_transform(corpus)\n",
    "print(X.toarray())    \n",
    "print(X.shape)\n",
    "\n",
    "vocab = np.array(vectorizer.get_feature_names())\n",
    "print(vocab)\n",
    "print(len(vocab))"
   ]
  },
  {
   "cell_type": "code",
   "execution_count": 41,
   "metadata": {},
   "outputs": [],
   "source": [
    "# LSA_1\n",
    "# num_tops = 10\n",
    "# words_topic = 2\n",
    "# def show_topics(Vh):\n",
    "#     top_words = lambda t: [vocab[i] for i in np.argsort(t)[:-words_topic-1:-1]]\n",
    "#     topic_words = ([top_words(t) for t in Vh])\n",
    "#     return [' '.join(t) for t in topic_words]\n",
    "\n",
    "# U, sigma, Vh = decomposition.randomized_svd(X, num_tops)\n",
    "# print(\"U:\\n\", U, \"\\n\")\n",
    "# print(\"SIGMA:\\n\", sigma, \"\\n\")\n",
    "# print(\"Vh:\\n\", Vh, \"\\n\")\n",
    "\n",
    "# show_topics(Vh)"
   ]
  },
  {
   "cell_type": "code",
   "execution_count": 63,
   "metadata": {},
   "outputs": [
    {
     "name": "stdout",
     "output_type": "stream",
     "text": [
      "3\n",
      "\n",
      " \n",
      " Topic 0: \n",
      "cheering loud proud midshipmen notre dame love \n",
      " \n",
      " Topic 1: \n",
      "love union credit best thanks thank would \n",
      " \n",
      " Topic 2: \n",
      "love nfcu bank fed guys years yrs "
     ]
    }
   ],
   "source": [
    "# lSA_2\n",
    "svd_model = decomposition.TruncatedSVD(n_components=3, algorithm='randomized', n_iter=100, random_state=122)\n",
    "\n",
    "svd_model.fit(X)\n",
    "\n",
    "print(len(svd_model.components_))\n",
    "\n",
    "for i, comp in enumerate(svd_model.components_):\n",
    "    terms_comp = zip(vocab, comp)\n",
    "    \n",
    "    sorted_terms = sorted(terms_comp, key=lambda x:x[1], reverse=True)[:7]\n",
    "\n",
    "    print(\"\\n \\n Topic \"+str(i)+\": \")\n",
    "\n",
    "    for t in sorted_terms:\n",
    "\n",
    "        print(t[0], end = ' ')"
   ]
  },
  {
   "cell_type": "code",
   "execution_count": null,
   "metadata": {},
   "outputs": [],
   "source": []
  },
  {
   "cell_type": "code",
   "execution_count": 64,
   "metadata": {},
   "outputs": [
    {
     "name": "stdout",
     "output_type": "stream",
     "text": [
      "Topic 0:\n",
      "['credit', 'please', 'would', 'union', 'like', 'thanks', 'help', 'call', 'know', 'time']\n",
      "Topic 1:\n",
      "['love', 'great', 'nfcu', 'best', 'proud', 'thanks', 'thank', 'years', 'awesome', 'good']\n",
      "\n",
      "Topic 0:\n",
      "['great', 'years', 'good', 'thank', 'service', 'member', 'credit', 'union', 'family', 'many']\n",
      "Topic 1:\n",
      "['love', 'proud', 'best', 'nfcu', 'thanks', 'bank', 'loud', 'cheering', 'yes', 'midshipmen']\n",
      "Topic 2:\n",
      "['please', 'would', 'thanks', 'like', 'credit', 'help', 'call', 'know', 'thank', 'union']\n",
      "\n",
      "Took 92.75722813606262 to extract topics!\n"
     ]
    }
   ],
   "source": [
    "# LDA\n",
    "def build_lda(X, num_of_topics = 3):\n",
    "    lda = LDA(n_components = num_of_topics, max_iter = 5, learning_method = \"online\", random_state = 122)\n",
    "    lda.fit(X)\n",
    "\n",
    "    return lda\n",
    "\n",
    "def display_word_distribution(model, feature_names, n_word):\n",
    "    for topic_idx, topic in enumerate(model.components_):\n",
    "        print(\"Topic %d:\" % (topic_idx))\n",
    "        words = []\n",
    "        for i in topic.argsort()[:-n_word - 1:-1]:\n",
    "            words.append(feature_names[i])\n",
    "        print(words)\n",
    "        \n",
    "start = time.time()\n",
    "number_topics = 4\n",
    "for i in range(2, number_topics):\n",
    "    lda_model = build_lda(X, i)\n",
    "    display_word_distribution(model=lda_model, feature_names=vocab, n_word=10)\n",
    "    print()\n",
    "\n",
    "print(\"Took \" + str(time.time()-start) + \" to extract topics!\")"
   ]
  },
  {
   "cell_type": "code",
   "execution_count": 65,
   "metadata": {},
   "outputs": [
    {
     "name": "stdout",
     "output_type": "stream",
     "text": [
      "1 673.8314916841039\n",
      "2 645.224616549369\n",
      "3 637.4321959906448\n",
      "4 629.9233723856439\n",
      "5 622.6526381811674\n",
      "6 616.6131437620879\n",
      "7 614.0572887337773\n",
      "8 613.2926808755755\n",
      "9 607.8072216925776\n",
      "10 604.9630936746926\n",
      "11 598.6547987930314\n",
      "12 601.1109972517165\n",
      "13 597.363466001454\n",
      "14 599.1871116394651\n",
      "15 592.0179510880506\n",
      "16 590.2434513351905\n",
      "17 591.6167489701554\n",
      "18 587.9490553788082\n",
      "19 588.1204765542487\n"
     ]
    },
    {
     "data": {
      "image/png": "[encoded data removed]",
      "text/plain": [
       "<Figure size 576x288 with 1 Axes>"
      ]
     },
     "metadata": {
      "needs_background": "light"
     },
     "output_type": "display_data"
    }
   ],
   "source": [
    "#K-Means\n",
    "from sklearn.cluster import KMeans\n",
    "\n",
    "# Finds optimal K\n",
    "def train(X,vectorizer,true_k=10,showLable = False):\n",
    "    km = KMeans(n_clusters=true_k, init='k-means++', max_iter=10000, n_init=1, verbose=False)\n",
    "    km.fit(X)\n",
    "    return km.inertia_ \n",
    "\n",
    "true_ks = []\n",
    "scores = []\n",
    "for i in range(1,20,1):        \n",
    "    score = train(X,vectorizer,true_k=i)/len(document)\n",
    "    print(i,score)\n",
    "    true_ks.append(i)\n",
    "    scores.append(score)\n",
    "plt.figure(figsize=(8,4))\n",
    "plt.plot(true_ks,scores,label=\"error\",color=\"red\",linewidth=1)\n",
    "plt.xlabel(\"n_features\")\n",
    "plt.ylabel(\"error\")\n",
    "plt.legend()\n",
    "plt.show()"
   ]
  },
  {
   "cell_type": "code",
   "execution_count": 66,
   "metadata": {},
   "outputs": [
    {
     "name": "stdout",
     "output_type": "stream",
     "text": [
      "5\n",
      "[[3.94106481e-04 0.00000000e+00 0.00000000e+00 ... 0.00000000e+00\n",
      "  0.00000000e+00 0.00000000e+00]\n",
      " [2.48669634e-04 2.92705045e-05 6.77877383e-05 ... 1.37768221e-04\n",
      "  9.61493417e-05 8.41844581e-05]\n",
      " [0.00000000e+00 0.00000000e+00 0.00000000e+00 ... 0.00000000e+00\n",
      "  0.00000000e+00 0.00000000e+00]\n",
      " [6.19367506e-04 1.84575059e-04 0.00000000e+00 ... 0.00000000e+00\n",
      "  1.08732520e-02 0.00000000e+00]\n",
      " [2.30033798e-04 0.00000000e+00 0.00000000e+00 ... 0.00000000e+00\n",
      "  0.00000000e+00 0.00000000e+00]]\n",
      "---------------------\n",
      "{1: 48983, 0: 2381, 4: 2713, 3: 4511, 2: 3284}\n",
      "---------------------\n",
      "Top terms per cluster:\n",
      "Cluster 0: love nfcu bank member thanks best years fed guys missy absolutely since service card members\n",
      "Cluster 1: thanks great thank best happy help love credit would know please like good service call\n",
      "Cluster 2: cheering loud proud midshipmen notre dame irish beat sorry vet usn twitter com least saturdays\n",
      "Cluster 3: send message private please would number like contact look reach time experience best account info\n",
      "Cluster 4: union credit thank love best thanks great ever yes member much bank like awesome years\n"
     ]
    }
   ],
   "source": [
    "true_k = 5\n",
    "clf = KMeans(n_clusters=true_k, init='k-means++', max_iter=1000, n_init=1, verbose=False)\n",
    "s = clf.fit(X)\n",
    "\n",
    "#20个中心点\n",
    "print(len(clf.cluster_centers_))\n",
    "print(clf.cluster_centers_)\n",
    "print(\"---------------------\")  \n",
    "\n",
    "\n",
    "#每个样本所属的簇\n",
    "i = 1\n",
    "dic = {}\n",
    "while i < len(clf.labels_):\n",
    "    if clf.labels_[i] in dic:\n",
    "        dic[clf.labels_[i]] += 1\n",
    "    else:\n",
    "        dic[clf.labels_[i]] = 1\n",
    "    i = i + 1\n",
    "print(dic)\n",
    "print(\"---------------------\")\n",
    "\n",
    "print(\"Top terms per cluster:\")\n",
    "order_centroids = clf.cluster_centers_.argsort()[:, ::-1]\n",
    "for i in range(true_k):\n",
    "    print(\"Cluster %d:\" % i, end='')\n",
    "    for ind in order_centroids[i, :15]:\n",
    "        print(' %s' % vocab[ind], end='')\n",
    "    print()"
   ]
  },
  {
   "cell_type": "code",
   "execution_count": 67,
   "metadata": {},
   "outputs": [
    {
     "name": "stdout",
     "output_type": "stream",
     "text": [
      "57362\n",
      "only 2 topics: \n",
      "Topic 0:\n",
      "['love', 'thanks', 'credit', 'thank', 'union', 'best', 'great', 'please', 'help', 'would']\n",
      "Topic 1:\n",
      "['proud', 'loud', 'cheering', 'midshipmen', 'good', 'love', 'luck', 'chance', 'lol', 'win']\n",
      "\n",
      "only 3 topics: \n",
      "Topic 0:\n",
      "['credit', 'thanks', 'union', 'please', 'help', 'would', 'best', 'know', 'like', 'call']\n",
      "Topic 1:\n",
      "['proud', 'loud', 'cheering', 'midshipmen', 'dame', 'notre', 'lol', 'talent', 'building', 'haha']\n",
      "Topic 2:\n",
      "['love', 'nfcu', 'great', 'awesome', 'thank', 'thanks', 'years', 'service', 'family', 'good']\n",
      "\n",
      "only 4 topics: \n",
      "Topic 0:\n",
      "['credit', 'thanks', 'union', 'best', 'please', 'great', 'thank', 'help', 'would', 'nfcu']\n",
      "Topic 1:\n",
      "['proud', 'loud', 'cheering', 'midshipmen', 'dame', 'notre', 'picture', 'talent', 'building', 'fits']\n",
      "Topic 2:\n",
      "['serve', 'many', 'kind', 'family', 'military', 'words', 'years', 'join', 'welcome', 'thanks']\n",
      "Topic 3:\n",
      "['love', 'luck', 'good', 'god', 'chance', 'win', 'story', 'bless', 'grand', 'prize']\n",
      "\n",
      "only 5 topics: \n",
      "Topic 0:\n",
      "['love', 'best', 'union', 'credit', 'nfcu', 'bank', 'thank', 'great', 'ever', 'years']\n",
      "Topic 1:\n",
      "['proud', 'loud', 'cheering', 'midshipmen', 'dame', 'notre', 'across', 'building', 'haha', 'incentive']\n",
      "Topic 2:\n",
      "['thanks', 'awesome', 'happy', 'appreciate', 'forward', 'thank', 'branch', 'help', 'kind', 'love']\n",
      "Topic 3:\n",
      "['luck', 'win', 'com', 'rewards', 'click', 'twitter', 'good', 'pic', 'winners', 'congratulations']\n",
      "Topic 4:\n",
      "['please', 'thanks', 'call', 'would', 'great', 'help', 'know', 'credit', 'get', 'like']\n",
      "\n",
      "only 6 topics: \n",
      "Topic 0:\n",
      "['thanks', 'credit', 'union', 'love', 'thank', 'great', 'please', 'help', 'happy', 'nfcu']\n",
      "Topic 1:\n",
      "['proud', 'loud', 'cheering', 'midshipmen', 'talent', 'building', 'personnel', 'store', 'girl', 'scan']\n",
      "Topic 2:\n",
      "['sharing', 'words', 'welcome', 'kind', 'proud', 'photo', 'story', 'military', 'serve', 'following']\n",
      "Topic 3:\n",
      "['love', 'awesome', 'win', 'pass', 'next', 'location', 'pleasure', 'sweet', 'restored', 'thanks']\n",
      "Topic 4:\n",
      "['best', 'bank', 'good', 'hope', 'like', 'question', 'luck', 'email', 'take', 'page']\n",
      "Topic 5:\n",
      "['dame', 'notre', 'field', 'refer', 'beautiful', 'david', 'less', 'air', 'approval', 'force']\n",
      "\n",
      "only 7 topics: \n",
      "Topic 0:\n",
      "['best', 'bless', 'god', 'share', 'world', 'else', 'bank', 'org', 'winners', 'congratulations']\n",
      "Topic 1:\n",
      "['proud', 'loud', 'cheering', 'midshipmen', 'win', 'prize', 'grow', 'duty', 'grand', 'thrilled']\n",
      "Topic 2:\n",
      "['love', 'credit', 'union', 'thanks', 'great', 'nfcu', 'thank', 'best', 'would', 'please']\n",
      "Topic 3:\n",
      "['awesome', 'luck', 'definitely', 'dame', 'notre', 'good', 'congrats', 'bonus', 'love', 'hearing']\n",
      "Topic 4:\n",
      "['link', 'soon', 'meantime', 'open', 'sounds', 'click', 'save', 'lol', 'posted', 'honorable']\n",
      "Topic 5:\n",
      "['happy', 'thanks', 'help', 'please', 'membership', 'sharing', 'know', 'thank', 'yes', 'hear']\n",
      "Topic 6:\n",
      "['welcome', 'photo', 'wonderful', 'serving', 'address', 'apply', 'live', 'com', 'twitter', 'pic']\n",
      "\n",
      "only 8 topics: \n",
      "Topic 0:\n",
      "['tech', 'rewards', 'score', 'pleasure', 'interested', 'true', 'chip', 'okay', 'latest', 'lately']\n",
      "Topic 1:\n",
      "['proud', 'loud', 'cheering', 'midshipmen', 'serve', 'grow', 'kind', 'thrilled', 'army', 'restored']\n",
      "Topic 2:\n",
      "['love', 'nfcu', 'god', 'bless', 'missy', 'alex', 'following', 'kind', 'thank', 'reply']\n",
      "Topic 3:\n",
      "['luck', 'link', 'good', 'facebook', 'congrats', 'expand', 'locations', 'video', 'original', 'hopefully']\n",
      "Topic 4:\n",
      "['thanks', 'please', 'happy', 'help', 'would', 'know', 'thank', 'call', 'credit', 'like']\n",
      "Topic 5:\n",
      "['words', 'submit', 'welcome', 'photo', 'yes', 'five', 'comment', 'option', 'atms', 'works']\n",
      "Topic 6:\n",
      "['dame', 'notre', 'absolutely', 'sweet', 'strive', 'attention', 'bonus', 'hearing', 'love', 'applied']\n",
      "Topic 7:\n",
      "['union', 'best', 'credit', 'great', 'love', 'bank', 'sharing', 'ever', 'thanks', 'thank']\n",
      "\n",
      "only 9 topics: \n",
      "Topic 0:\n",
      "['best', 'love', 'nfcu', 'great', 'bank', 'ever', 'member', 'years', 'service', 'credit']\n",
      "Topic 1:\n",
      "['sharing', 'serve', 'family', 'words', 'proud', 'thanks', 'chance', 'many', 'win', 'serving']\n",
      "Topic 2:\n",
      "['union', 'credit', 'thank', 'missy', 'grand', 'active', 'duty', 'discuss', 'margot', 'alexander']\n",
      "Topic 3:\n",
      "['awesome', 'god', 'bless', 'luck', 'good', 'honorable', 'institution', 'thank', 'pretty', 'strive']\n",
      "Topic 4:\n",
      "['branches', 'christmas', 'might', 'around', 'agree', 'opened', 'friend', 'phishing', 'lol', 'fan']\n",
      "Topic 5:\n",
      "['proud', 'loud', 'cheering', 'midshipmen', 'feedback', 'mention', 'offers', 'shout', 'offering', 'started']\n",
      "Topic 6:\n",
      "['love', 'absolutely', 'attention', 'favorite', 'bonus', 'david', 'hearing', 'saturday', 'include', 'everyday']\n",
      "Topic 7:\n",
      "['thanks', 'please', 'help', 'would', 'know', 'happy', 'call', 'like', 'credit', 'let']\n",
      "Topic 8:\n",
      "['photo', 'dame', 'notre', 'five', 'defense', 'touch', 'appropriate', 'administration', 'high', 'blessed']\n",
      "\n",
      "Took 444.3591618537903 to extract topics!\n"
     ]
    }
   ],
   "source": [
    "start = time.time()\n",
    "cluster_id = 3\n",
    "count = 0\n",
    "new_corpus = []\n",
    "for document in corpus:\n",
    "    if clf.labels_[count] != cluster_id:\n",
    "        new_corpus.append(document)\n",
    "    count += 1\n",
    "\n",
    "new_corpus = np.array(new_corpus)\n",
    "print(len(new_corpus))\n",
    "\n",
    "new_vectorizer = TfidfVectorizer(binary = True, max_features = 100000, stop_words=stop_words, ngram_range = (1,1))\n",
    "\n",
    "new_X = new_vectorizer.fit_transform(new_corpus)\n",
    "\n",
    "new_vocab = np.array(new_vectorizer.get_feature_names())\n",
    "\n",
    "max_number_topics = 10\n",
    "for i in range(2, max_number_topics):\n",
    "    print('only', i, 'topics: ')\n",
    "    new_lda_model = build_lda(new_X, i)\n",
    "    display_word_distribution(model=new_lda_model, feature_names=new_vocab, n_word=10)\n",
    "    print()\n",
    "\n",
    "print(\"Took \" + str(time.time()-start) + \" to extract topics!\")"
   ]
  },
  {
   "cell_type": "code",
   "execution_count": null,
   "metadata": {},
   "outputs": [],
   "source": []
  }
 ],
 "metadata": {
  "kernelspec": {
   "display_name": "Python 3",
   "language": "python",
   "name": "python3"
  },
  "language_info": {
   "codemirror_mode": {
    "name": "ipython",
    "version": 3
   },
   "file_extension": ".py",
   "mimetype": "text/x-python",
   "name": "python",
   "nbconvert_exporter": "python",
   "pygments_lexer": "ipython3",
   "version": "3.6.2"
  }
 },
 "nbformat": 4,
 "nbformat_minor": 2
}

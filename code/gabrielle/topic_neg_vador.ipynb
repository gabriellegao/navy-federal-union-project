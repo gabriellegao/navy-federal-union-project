{
 "cells": [
  {
   "cell_type": "code",
   "execution_count": 1,
   "metadata": {},
   "outputs": [],
   "source": [
    "import os\n",
    "import time\n",
    "import pandas as pd\n",
    "import numpy as np\n",
    "import datetime\n",
    "from sklearn.feature_extraction.text import CountVectorizer\n",
    "from sklearn.feature_extraction.text import TfidfVectorizer\n",
    "from sklearn import decomposition\n",
    "from sklearn.decomposition import LatentDirichletAllocation as LDA\n",
    "from nltk.corpus import stopwords\n",
    "from pylab import plt\n",
    "from matplotlib.pyplot import plot"
   ]
  },
  {
   "cell_type": "code",
   "execution_count": 43,
   "metadata": {},
   "outputs": [
    {
     "name": "stdout",
     "output_type": "stream",
     "text": [
      "Corpus Read\n",
      "39749\n"
     ]
    }
   ],
   "source": [
    "# # Read the dataset\n",
    "\n",
    "# dataset = pd.read_csv('label_neu.csv', encoding='utf8')\n",
    "\n",
    "# # x = datetime.datetime(2019, 1, 11)\n",
    "\n",
    "# # corpus = dataset[pd.to_datetime(dataset.CreatedTime) > x]\n",
    "\n",
    "# print('Corpus Read')\n",
    "# print(len(corpus))"
   ]
  },
  {
   "cell_type": "code",
   "execution_count": 2,
   "metadata": {},
   "outputs": [
    {
     "name": "stdout",
     "output_type": "stream",
     "text": [
      "Negative Corpus Read\n",
      "39749\n",
      "                                                   tweet  compound    neg  \\\n",
      "0                                 i am bout sick of yall   -0.5106  0.452   \n",
      "1      all usaa navy federal members who would like t...   -0.5423  0.226   \n",
      "2      brooks all usaa navy federal members who would...   -0.5423  0.218   \n",
      "3                              you all about to upset me   -0.3818  0.342   \n",
      "4      fuck for withdrawing without my permission and...   -0.6908  0.311   \n",
      "...                                                  ...       ...    ...   \n",
      "39744  the new app is absolutely terrible for the iph...   -0.6470  0.091   \n",
      "39745  after spending over an hour of our lives deali...   -0.4588  0.125   \n",
      "39746  possibly the worst bank i have ever dealt with...   -0.3178  0.148   \n",
      "39747  elisibeth davenport weird that this popped up ...   -0.1779  0.159   \n",
      "39748  we need a branch in palm beach county the bran...   -0.3818  0.055   \n",
      "\n",
      "         neu    pos  label  \n",
      "0      0.548  0.000     -1  \n",
      "1      0.679  0.094     -1  \n",
      "2      0.691  0.091     -1  \n",
      "3      0.658  0.000     -1  \n",
      "4      0.594  0.096     -1  \n",
      "...      ...    ...    ...  \n",
      "39744  0.850  0.059     -1  \n",
      "39745  0.875  0.000     -1  \n",
      "39746  0.754  0.098     -1  \n",
      "39747  0.841  0.000     -1  \n",
      "39748  0.945  0.000     -1  \n",
      "\n",
      "[39749 rows x 6 columns]\n"
     ]
    }
   ],
   "source": [
    "dataset = pd.read_csv('label_neg.csv', encoding='utf8')\n",
    "dataset.head(10)\n",
    "corpus = dataset[dataset['label'] == -1]\n",
    "\n",
    "print('Negative Corpus Read')\n",
    "print(len(corpus))\n",
    "print(corpus)"
   ]
  },
  {
   "cell_type": "code",
   "execution_count": 3,
   "metadata": {},
   "outputs": [
    {
     "name": "stdout",
     "output_type": "stream",
     "text": [
      "<class 'numpy.ndarray'>\n",
      "bout sick yall\n",
      "39749\n"
     ]
    }
   ],
   "source": [
    "# Filter short length word\n",
    "\n",
    "corpus = corpus.tweet.values.astype('U')\n",
    "\n",
    "count = 0\n",
    "for document in corpus:\n",
    "    words_list = document.split()\n",
    "    ##print(words_list)\n",
    "    resultwords  = [word for word in words_list if len(word) > 2]\n",
    "    corpus[count] = ' '.join(resultwords)\n",
    "    count += 1\n",
    "    \n",
    "print(type(corpus))\n",
    "print(corpus[0])\n",
    "print(len(corpus))"
   ]
  },
  {
   "cell_type": "code",
   "execution_count": 4,
   "metadata": {},
   "outputs": [],
   "source": [
    "## Filter stop word\n",
    "\n",
    "stop_words = set(stopwords.words('english'))\n",
    "\n",
    "stop_words.add('navy')\n",
    "stop_words.add('navyfederal')\n",
    "stop_words.add('federal')"
   ]
  },
  {
   "cell_type": "code",
   "execution_count": 5,
   "metadata": {},
   "outputs": [
    {
     "name": "stdout",
     "output_type": "stream",
     "text": [
      "[[0. 0. 0. ... 0. 0. 0.]\n",
      " [0. 0. 0. ... 0. 0. 0.]\n",
      " [0. 0. 0. ... 0. 0. 0.]\n",
      " ...\n",
      " [0. 0. 0. ... 0. 0. 0.]\n",
      " [0. 0. 0. ... 0. 0. 0.]\n",
      " [0. 0. 0. ... 0. 0. 0.]]\n",
      "(39749, 7000)\n",
      "['aaron' 'abandon' 'abandoned' ... 'zombie' 'zombies' 'zone']\n",
      "7000\n"
     ]
    }
   ],
   "source": [
    "# Vector\n",
    "\n",
    "vectorizer = TfidfVectorizer(binary = True, max_features = 7000, stop_words=stop_words, ngram_range = (1,1))\n",
    "\n",
    "X = vectorizer.fit_transform(corpus)\n",
    "print(X.toarray())    \n",
    "print(X.shape)\n",
    "\n",
    "vocab = np.array(vectorizer.get_feature_names())\n",
    "print(vocab)\n",
    "print(len(vocab))"
   ]
  },
  {
   "cell_type": "code",
   "execution_count": 41,
   "metadata": {},
   "outputs": [],
   "source": [
    "# LSA_1\n",
    "# num_tops = 10\n",
    "# words_topic = 2\n",
    "# def show_topics(Vh):\n",
    "#     top_words = lambda t: [vocab[i] for i in np.argsort(t)[:-words_topic-1:-1]]\n",
    "#     topic_words = ([top_words(t) for t in Vh])\n",
    "#     return [' '.join(t) for t in topic_words]\n",
    "\n",
    "# U, sigma, Vh = decomposition.randomized_svd(X, num_tops)\n",
    "# print(\"U:\\n\", U, \"\\n\")\n",
    "# print(\"SIGMA:\\n\", sigma, \"\\n\")\n",
    "# print(\"Vh:\\n\", Vh, \"\\n\")\n",
    "\n",
    "# show_topics(Vh)"
   ]
  },
  {
   "cell_type": "code",
   "execution_count": 6,
   "metadata": {},
   "outputs": [
    {
     "name": "stdout",
     "output_type": "stream",
     "text": [
      "3\n",
      "\n",
      " \n",
      " Topic 0: \n",
      "money get account bank pay credit cannot \n",
      " \n",
      " Topic 1: \n",
      "com twitter pic apac defense book mapping \n",
      " \n",
      " Topic 2: \n",
      "worst ever bank credit service union customer "
     ]
    }
   ],
   "source": [
    "# lSA_2\n",
    "svd_model = decomposition.TruncatedSVD(n_components=3, algorithm='randomized', n_iter=100, random_state=122)\n",
    "\n",
    "svd_model.fit(X)\n",
    "\n",
    "print(len(svd_model.components_))\n",
    "\n",
    "for i, comp in enumerate(svd_model.components_):\n",
    "    terms_comp = zip(vocab, comp)\n",
    "    \n",
    "    sorted_terms = sorted(terms_comp, key=lambda x:x[1], reverse=True)[:7]\n",
    "\n",
    "    print(\"\\n \\n Topic \"+str(i)+\": \")\n",
    "\n",
    "    for t in sorted_terms:\n",
    "\n",
    "        print(t[0], end = ' ')"
   ]
  },
  {
   "cell_type": "code",
   "execution_count": null,
   "metadata": {},
   "outputs": [],
   "source": []
  },
  {
   "cell_type": "code",
   "execution_count": 7,
   "metadata": {},
   "outputs": [
    {
     "name": "stdout",
     "output_type": "stream",
     "text": [
      "Topic 0:\n",
      "['service', 'credit', 'years', 'would', 'bank', 'nfcu', 'customer', 'union', 'one', 'bad']\n",
      "Topic 1:\n",
      "['account', 'pay', 'money', 'get', 'card', 'still', 'cannot', 'need', 'problem', 'deposit']\n",
      "\n",
      "Topic 0:\n",
      "['ever', 'worst', 'service', 'com', 'hell', 'customer', 'twitter', 'bad', 'pic', 'horrible']\n",
      "Topic 1:\n",
      "['pay', 'card', 'credit', 'wrong', 'would', 'use', 'way', 'nfcu', 'bank', 'account']\n",
      "Topic 2:\n",
      "['get', 'money', 'account', 'problem', 'call', 'time', 'know', 'still', 'phone', 'deposit']\n",
      "\n",
      "Took 61.79273986816406 to extract topics!\n"
     ]
    }
   ],
   "source": [
    "# LDA\n",
    "def build_lda(X, num_of_topics = 3):\n",
    "    lda = LDA(n_components = num_of_topics, max_iter = 5, learning_method = \"online\", random_state = 122)\n",
    "    lda.fit(X)\n",
    "\n",
    "    return lda\n",
    "\n",
    "def display_word_distribution(model, feature_names, n_word):\n",
    "    for topic_idx, topic in enumerate(model.components_):\n",
    "        print(\"Topic %d:\" % (topic_idx))\n",
    "        words = []\n",
    "        for i in topic.argsort()[:-n_word - 1:-1]:\n",
    "            words.append(feature_names[i])\n",
    "        print(words)\n",
    "        \n",
    "start = time.time()\n",
    "number_topics = 4\n",
    "for i in range(2, number_topics):\n",
    "    lda_model = build_lda(X, i)\n",
    "    display_word_distribution(model=lda_model, feature_names=vocab, n_word=10)\n",
    "    print()\n",
    "\n",
    "print(\"Took \" + str(time.time()-start) + \" to extract topics!\")"
   ]
  },
  {
   "cell_type": "code",
   "execution_count": 8,
   "metadata": {},
   "outputs": [
    {
     "name": "stdout",
     "output_type": "stream",
     "text": [
      "1 123.8996098193715\n",
      "2 123.51297336005906\n",
      "3 122.92340987151523\n",
      "4 122.58570735735182\n",
      "5 122.64976913333241\n",
      "6 122.51161689037593\n",
      "7 122.55029473648486\n",
      "8 121.80432320891862\n",
      "9 121.27422973439123\n",
      "10 121.13924799680616\n",
      "11 120.98052754095998\n",
      "12 123.39848975903664\n",
      "13 123.36171359756082\n",
      "14 120.26643063788991\n",
      "15 120.40613420678613\n",
      "16 120.0057124462081\n",
      "17 122.75901539987159\n",
      "18 119.44792031411576\n",
      "19 122.05987962896032\n"
     ]
    },
    {
     "data": {
      "image/png": "[encoded data removed]",
      "text/plain": [
       "<Figure size 576x288 with 1 Axes>"
      ]
     },
     "metadata": {
      "needs_background": "light"
     },
     "output_type": "display_data"
    }
   ],
   "source": [
    "#K-Means\n",
    "from sklearn.cluster import KMeans\n",
    "\n",
    "# Finds optimal K\n",
    "def train(X,vectorizer,true_k=10,showLable = False):\n",
    "    km = KMeans(n_clusters=true_k, init='k-means++', max_iter=10000, n_init=1, verbose=False)\n",
    "    km.fit(X)\n",
    "    return km.inertia_ \n",
    "\n",
    "true_ks = []\n",
    "scores = []\n",
    "for i in range(1,20,1):        \n",
    "    score = train(X,vectorizer,true_k=i)/len(document)\n",
    "    print(i,score)\n",
    "    true_ks.append(i)\n",
    "    scores.append(score)\n",
    "plt.figure(figsize=(8,4))\n",
    "plt.plot(true_ks,scores,label=\"error\",color=\"red\",linewidth=1)\n",
    "plt.xlabel(\"n_features\")\n",
    "plt.ylabel(\"error\")\n",
    "plt.legend()\n",
    "plt.show()"
   ]
  },
  {
   "cell_type": "code",
   "execution_count": null,
   "metadata": {},
   "outputs": [],
   "source": []
  },
  {
   "cell_type": "code",
   "execution_count": 9,
   "metadata": {},
   "outputs": [
    {
     "name": "stdout",
     "output_type": "stream",
     "text": [
      "5\n",
      "[[1.85084544e-04 1.28960266e-04 4.79808703e-05 ... 1.21527108e-03\n",
      "  1.53372337e-03 1.02229027e-04]\n",
      " [2.49530784e-04 0.00000000e+00 3.25550479e-04 ... 5.71602353e-04\n",
      "  5.74262606e-04 0.00000000e+00]\n",
      " [7.78566097e-05 0.00000000e+00 0.00000000e+00 ... 0.00000000e+00\n",
      "  9.01217752e-05 1.35505632e-04]\n",
      " [0.00000000e+00 0.00000000e+00 2.58108638e-04 ... 0.00000000e+00\n",
      "  0.00000000e+00 0.00000000e+00]\n",
      " [0.00000000e+00 8.11995490e-05 9.91413924e-05 ... 3.17269030e-03\n",
      "  1.22569229e-03 3.24581029e-04]]\n",
      "---------------------\n",
      "{4: 3180, 0: 22666, 2: 9121, 1: 3345, 3: 1436}\n",
      "---------------------\n",
      "Top terms per cluster:\n",
      "Cluster 0: one fuck get shit like would know problem got people hell time bad need sorry\n",
      "Cluster 1: pay credit union card bills get bill cards use need debt time cash account car\n",
      "Cluster 2: account bank service app customer get cannot call worst deposit phone nfcu ever time never\n",
      "Cluster 3: twitter com pic apac defense book telemetry bio mapping brain india president sexual kanchana govt\n",
      "Cluster 4: money account get bank need back people pay cannot deposit time still got going access\n"
     ]
    }
   ],
   "source": [
    "true_k = 5\n",
    "clf = KMeans(n_clusters=true_k, init='k-means++', max_iter=1000, n_init=1, verbose=False)\n",
    "s = clf.fit(X)\n",
    "\n",
    "#20个中心点\n",
    "print(len(clf.cluster_centers_))\n",
    "print(clf.cluster_centers_)\n",
    "print(\"---------------------\")  \n",
    "\n",
    "\n",
    "#每个样本所属的簇\n",
    "i = 1\n",
    "dic = {}\n",
    "while i < len(clf.labels_):\n",
    "    if clf.labels_[i] in dic:\n",
    "        dic[clf.labels_[i]] += 1\n",
    "    else:\n",
    "        dic[clf.labels_[i]] = 1\n",
    "    i = i + 1\n",
    "print(dic)\n",
    "print(\"---------------------\")\n",
    "\n",
    "print(\"Top terms per cluster:\")\n",
    "order_centroids = clf.cluster_centers_.argsort()[:, ::-1]\n",
    "for i in range(true_k):\n",
    "    print(\"Cluster %d:\" % i, end='')\n",
    "    for ind in order_centroids[i, :15]:\n",
    "        print(' %s' % vocab[ind], end='')\n",
    "    print()"
   ]
  },
  {
   "cell_type": "code",
   "execution_count": 10,
   "metadata": {},
   "outputs": [
    {
     "name": "stdout",
     "output_type": "stream",
     "text": [
      "38313\n",
      "only 2 topics: \n",
      "Topic 0:\n",
      "['hell', 'sucks', 'lol', 'damn', 'stupid', 'ass', 'wtf', 'suck', 'hate', 'stop']\n",
      "Topic 1:\n",
      "['get', 'money', 'account', 'pay', 'credit', 'bank', 'nfcu', 'time', 'one', 'cannot']\n",
      "\n",
      "only 3 topics: \n",
      "Topic 0:\n",
      "['damn', 'sucks', 'lol', 'smh', 'shit', 'wtf', 'suck', 'bullshit', 'problem', 'crap']\n",
      "Topic 1:\n",
      "['account', 'get', 'money', 'pay', 'credit', 'bank', 'nfcu', 'would', 'time', 'one']\n",
      "Topic 2:\n",
      "['fuck', 'wrong', 'hell', 'debt', 'direct', 'hate', 'stupid', 'ass', 'mine', 'broke']\n",
      "\n",
      "only 4 topics: \n",
      "Topic 0:\n",
      "['suck', 'lol', 'bullshit', 'crap', 'wtf', 'fake', 'cut', 'mean', 'damn', 'god']\n",
      "Topic 1:\n",
      "['care', 'union', 'poor', 'sucks', 'terrible', 'sorry', 'military', 'credit', 'nfl', 'dead']\n",
      "Topic 2:\n",
      "['wrong', 'fuck', 'worst', 'bank', 'something', 'ever', 'get', 'one', 'done', 'smh']\n",
      "Topic 3:\n",
      "['account', 'money', 'pay', 'get', 'credit', 'nfcu', 'time', 'cannot', 'would', 'still']\n",
      "\n",
      "only 5 topics: \n",
      "Topic 0:\n",
      "['unacceptable', 'hold', 'needs', 'absolutely', 'point', 'tired', 'minutes', 'must', 'offer', 'drive']\n",
      "Topic 1:\n",
      "['account', 'get', 'money', 'pay', 'credit', 'bank', 'nfcu', 'would', 'time', 'one']\n",
      "Topic 2:\n",
      "['fuck', 'debt', 'damn', 'sucks', 'answer', 'shit', 'missing', 'real', 'guess', 'hell']\n",
      "Topic 3:\n",
      "['error', 'stupid', 'thank', 'ass', 'life', 'name', 'looking', 'yeah', 'times', 'geico']\n",
      "Topic 4:\n",
      "['run', 'scams', 'army', 'makes', 'fake', 'dollars', 'sense', 'war', 'zombie', 'apply']\n",
      "\n",
      "only 6 topics: \n",
      "Topic 0:\n",
      "['sucks', 'issues', 'working', 'fix', 'available', 'problem', 'reason', 'point', 'mail', 'branches']\n",
      "Topic 1:\n",
      "['scam', 'usaa', 'wtf', 'geico', 'dead', 'big', 'hell', 'stolen', 'buy', 'scams']\n",
      "Topic 2:\n",
      "['wrong', 'something', 'hacked', 'hard', 'damn', 'put', 'anyone', 'come', 'problems', 'mine']\n",
      "Topic 3:\n",
      "['stupid', 'seriously', 'suck', 'away', 'horrible', 'hate', 'yeah', 'security', 'crap', 'fucking']\n",
      "Topic 4:\n",
      "['worst', 'years', 'ever', 'service', 'first', 'sad', 'customer', 'bank', 'poor', 'matter']\n",
      "Topic 5:\n",
      "['account', 'get', 'money', 'pay', 'credit', 'cannot', 'time', 'card', 'one', 'nfcu']\n",
      "\n",
      "only 7 topics: \n",
      "Topic 0:\n",
      "['broke', 'tired', 'must', 'others', 'government', 'war', 'refinance', 'possible', 'frustrated', 'air']\n",
      "Topic 1:\n",
      "['account', 'money', 'get', 'credit', 'pay', 'would', 'one', 'nfcu', 'time', 'know']\n",
      "Topic 2:\n",
      "['fuck', 'together', 'pissed', 'coming', 'shit', 'save', 'active', 'duty', 'damn', 'retired']\n",
      "Topic 3:\n",
      "['sorry', 'online', 'banking', 'every', 'times', 'mobile', 'hard', 'horrible', 'worst', 'sad']\n",
      "Topic 4:\n",
      "['geico', 'mean', 'dollars', 'news', 'zombie', 'nfl', 'comment', 'apocalypse', 'entire', 'office']\n",
      "Topic 5:\n",
      "['lol', 'stupid', 'sucks', 'yes', 'wtf', 'wanted', 'fake', 'crap', 'address', 'hello']\n",
      "Topic 6:\n",
      "['army', 'agree', 'looks', 'yea', 'quiz', 'police', 'code', 'requested', 'head', 'ads']\n",
      "\n",
      "only 8 topics: \n",
      "Topic 0:\n",
      "['geico', 'scams', 'die', 'waste', 'nfl', 'boycott', 'difficulties', 'inconvenient', 'technical', 'beware']\n",
      "Topic 1:\n",
      "['dead', 'mail', 'school', 'army', 'war', 'zombie', 'active', 'cancel', 'receiving', 'apocalypse']\n",
      "Topic 2:\n",
      "['fuck', 'yall', 'sense', 'damn', 'yea', 'worries', 'rest', 'idiot', 'clear', 'devil']\n",
      "Topic 3:\n",
      "['available', 'hard', 'point', 'miss', 'posted', 'social', 'insurance', 'hell', 'hey', 'delay']\n",
      "Topic 4:\n",
      "['sorry', 'good', 'car', 'disappointed', 'used', 'crazy', 'terrible', 'live', 'either', 'bank']\n",
      "Topic 5:\n",
      "['run', 'sick', 'personal', 'lol', 'death', 'complaint', 'none', 'america', 'comment', 'bullshit']\n",
      "Topic 6:\n",
      "['account', 'money', 'get', 'credit', 'pay', 'nfcu', 'time', 'would', 'one', 'cannot']\n",
      "Topic 7:\n",
      "['debt', 'scam', 'post', 'poor', 'months', 'error', 'guess', 'wrong', 'sucks', 'together']\n",
      "\n",
      "only 9 topics: \n",
      "Topic 0:\n",
      "['hell', 'geico', 'talk', 'miss', 'checks', 'pissed', 'zombie', 'exactly', 'possible', 'mad']\n",
      "Topic 1:\n",
      "['available', 'debit', 'husband', 'address', 'chip', 'fraudulent', 'guy', 'order', 'complaints', 'cancel']\n",
      "Topic 2:\n",
      "['dead', 'army', 'save', 'death', 'air', 'yeah', 'force', 'quiz', 'boycott', 'unfortunately']\n",
      "Topic 3:\n",
      "['account', 'get', 'money', 'credit', 'nfcu', 'pay', 'time', 'cannot', 'would', 'problem']\n",
      "Topic 4:\n",
      "['worst', 'ever', 'bank', 'love', 'hate', 'world', 'dollars', 'allow', 'steal', 'show']\n",
      "Topic 5:\n",
      "['fuck', 'sorry', 'suck', 'terrible', 'social', 'hour', 'yall', 'support', 'agree', 'sense']\n",
      "Topic 6:\n",
      "['bad', 'debt', 'scam', 'make', 'good', 'sure', 'first', 'bills', 'work', 'care']\n",
      "Topic 7:\n",
      "['usaa', 'yes', 'understand', 'rate', 'gave', 'team', 'interest', 'heard', 'offer', 'identity']\n",
      "Topic 8:\n",
      "['times', 'check', 'message', 'try', 'seriously', 'problems', 'missing', 'wrong', 'calls', 'log']\n",
      "\n",
      "Took 292.4655921459198 to extract topics!\n"
     ]
    }
   ],
   "source": [
    "start = time.time()\n",
    "cluster_id = 3\n",
    "count = 0\n",
    "new_corpus = []\n",
    "for document in corpus:\n",
    "    if clf.labels_[count] != cluster_id:\n",
    "        new_corpus.append(document)\n",
    "    count += 1\n",
    "\n",
    "new_corpus = np.array(new_corpus)\n",
    "print(len(new_corpus))\n",
    "\n",
    "new_vectorizer = TfidfVectorizer(binary = True, max_features = 100000, stop_words=stop_words, ngram_range = (1,1))\n",
    "\n",
    "new_X = new_vectorizer.fit_transform(new_corpus)\n",
    "\n",
    "new_vocab = np.array(new_vectorizer.get_feature_names())\n",
    "\n",
    "max_number_topics = 10\n",
    "for i in range(2, max_number_topics):\n",
    "    print('only', i, 'topics: ')\n",
    "    new_lda_model = build_lda(new_X, i)\n",
    "    display_word_distribution(model=new_lda_model, feature_names=new_vocab, n_word=10)\n",
    "    print()\n",
    "\n",
    "print(\"Took \" + str(time.time()-start) + \" to extract topics!\")"
   ]
  },
  {
   "cell_type": "code",
   "execution_count": null,
   "metadata": {},
   "outputs": [],
   "source": []
  }
 ],
 "metadata": {
  "kernelspec": {
   "display_name": "Python 3",
   "language": "python",
   "name": "python3"
  },
  "language_info": {
   "codemirror_mode": {
    "name": "ipython",
    "version": 3
   },
   "file_extension": ".py",
   "mimetype": "text/x-python",
   "name": "python",
   "nbconvert_exporter": "python",
   "pygments_lexer": "ipython3",
   "version": "3.7.6"
  }
 },
 "nbformat": 4,
 "nbformat_minor": 2
}

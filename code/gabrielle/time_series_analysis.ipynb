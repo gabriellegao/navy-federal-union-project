{
 "cells": [
  {
   "cell_type": "code",
   "execution_count": 2,
   "metadata": {},
   "outputs": [],
   "source": [
    "import pandas as pd\n",
    "import matplotlib.pyplot as plt\n",
    "import seaborn as sns"
   ]
  },
  {
   "cell_type": "code",
   "execution_count": 3,
   "metadata": {
    "scrolled": true
   },
   "outputs": [
    {
     "data": {
      "text/html": [
       "<div>\n",
       "<style scoped>\n",
       "    .dataframe tbody tr th:only-of-type {\n",
       "        vertical-align: middle;\n",
       "    }\n",
       "\n",
       "    .dataframe tbody tr th {\n",
       "        vertical-align: top;\n",
       "    }\n",
       "\n",
       "    .dataframe thead th {\n",
       "        text-align: right;\n",
       "    }\n",
       "</style>\n",
       "<table border=\"1\" class=\"dataframe\">\n",
       "  <thead>\n",
       "    <tr style=\"text-align: right;\">\n",
       "      <th></th>\n",
       "      <th>Unnamed: 0</th>\n",
       "      <th>IDNew</th>\n",
       "      <th>SocialNetwork</th>\n",
       "      <th>SenderUserId</th>\n",
       "      <th>FollowersCount</th>\n",
       "      <th>Message</th>\n",
       "      <th>CreatedTime</th>\n",
       "      <th>MessageType</th>\n",
       "      <th>NormalizedMessage</th>\n",
       "    </tr>\n",
       "  </thead>\n",
       "  <tbody>\n",
       "    <tr>\n",
       "      <th>64042</th>\n",
       "      <td>64903</td>\n",
       "      <td>3.270834e+09</td>\n",
       "      <td>FACEBOOK</td>\n",
       "      <td>1.603442e+14</td>\n",
       "      <td>1159490</td>\n",
       "      <td>That's a great question, DeAundra! Some Member...</td>\n",
       "      <td>2020-01-28 20:07:27</td>\n",
       "      <td>Facebook Replies</td>\n",
       "      <td>that is a great question deaundra some members...</td>\n",
       "    </tr>\n",
       "    <tr>\n",
       "      <th>64043</th>\n",
       "      <td>64904</td>\n",
       "      <td>3.554543e+09</td>\n",
       "      <td>FACEBOOK</td>\n",
       "      <td>2.736433e+15</td>\n",
       "      <td>0</td>\n",
       "      <td>How long does it take for review after you hav...</td>\n",
       "      <td>2020-01-28 20:02:49</td>\n",
       "      <td>Facebook Comment</td>\n",
       "      <td>how long does it take for review after you hav...</td>\n",
       "    </tr>\n",
       "    <tr>\n",
       "      <th>64044</th>\n",
       "      <td>64905</td>\n",
       "      <td>3.270834e+09</td>\n",
       "      <td>FACEBOOK</td>\n",
       "      <td>1.603442e+14</td>\n",
       "      <td>1159490</td>\n",
       "      <td>Thank you for sharing your concerns, Krista. W...</td>\n",
       "      <td>2020-01-28 19:00:08</td>\n",
       "      <td>Facebook Replies</td>\n",
       "      <td>thank you for sharing your concerns krista we ...</td>\n",
       "    </tr>\n",
       "    <tr>\n",
       "      <th>64045</th>\n",
       "      <td>64906</td>\n",
       "      <td>3.270834e+09</td>\n",
       "      <td>FACEBOOK</td>\n",
       "      <td>1.603442e+14</td>\n",
       "      <td>1159490</td>\n",
       "      <td>Enjoy a low APR for 1 year when you transfer b...</td>\n",
       "      <td>2020-01-28 18:51:53</td>\n",
       "      <td>Facebook Post</td>\n",
       "      <td>enjoy a low apr for year when you transfer bal...</td>\n",
       "    </tr>\n",
       "    <tr>\n",
       "      <th>64046</th>\n",
       "      <td>64907</td>\n",
       "      <td>3.270834e+09</td>\n",
       "      <td>FACEBOOK</td>\n",
       "      <td>1.603442e+14</td>\n",
       "      <td>1159490</td>\n",
       "      <td>You can achieve financial victory with a low A...</td>\n",
       "      <td>2020-01-28 18:51:53</td>\n",
       "      <td>Facebook Post</td>\n",
       "      <td>you can achieve financial victory with a low a...</td>\n",
       "    </tr>\n",
       "    <tr>\n",
       "      <th>64047</th>\n",
       "      <td>64908</td>\n",
       "      <td>3.270834e+09</td>\n",
       "      <td>FACEBOOK</td>\n",
       "      <td>1.603442e+14</td>\n",
       "      <td>1159490</td>\n",
       "      <td>Conquer your debt with a low APR on balance tr...</td>\n",
       "      <td>2020-01-28 18:51:53</td>\n",
       "      <td>Facebook Post</td>\n",
       "      <td>conquer your debt with a low apr on balance tr...</td>\n",
       "    </tr>\n",
       "    <tr>\n",
       "      <th>64048</th>\n",
       "      <td>64909</td>\n",
       "      <td>3.270834e+09</td>\n",
       "      <td>FACEBOOK</td>\n",
       "      <td>1.603442e+14</td>\n",
       "      <td>1159490</td>\n",
       "      <td>Be a Debt Defeater with a 1.99% APR on balance...</td>\n",
       "      <td>2020-01-28 18:51:53</td>\n",
       "      <td>Facebook Post</td>\n",
       "      <td>be a debt defeater with a apr on balance trans...</td>\n",
       "    </tr>\n",
       "    <tr>\n",
       "      <th>64049</th>\n",
       "      <td>64910</td>\n",
       "      <td>3.270834e+09</td>\n",
       "      <td>FACEBOOK</td>\n",
       "      <td>1.603442e+14</td>\n",
       "      <td>1159490</td>\n",
       "      <td>Be a Debt Defeater with a 1.99% APR on balance...</td>\n",
       "      <td>2020-01-28 18:51:53</td>\n",
       "      <td>Facebook Post</td>\n",
       "      <td>be a debt defeater with a apr on balance trans...</td>\n",
       "    </tr>\n",
       "    <tr>\n",
       "      <th>64050</th>\n",
       "      <td>64911</td>\n",
       "      <td>3.553207e+09</td>\n",
       "      <td>FACEBOOK</td>\n",
       "      <td>2.700101e+15</td>\n",
       "      <td>0</td>\n",
       "      <td>I am going to trump off of Shari.....this is t...</td>\n",
       "      <td>2020-01-28 18:50:49</td>\n",
       "      <td>Facebook Replies</td>\n",
       "      <td>i am going to trump off of shari this is the e...</td>\n",
       "    </tr>\n",
       "    <tr>\n",
       "      <th>64051</th>\n",
       "      <td>64912</td>\n",
       "      <td>3.270834e+09</td>\n",
       "      <td>FACEBOOK</td>\n",
       "      <td>1.603442e+14</td>\n",
       "      <td>1159490</td>\n",
       "      <td>Welcome to the family, Rob! We look forward to...</td>\n",
       "      <td>2020-01-28 18:45:15</td>\n",
       "      <td>Facebook Replies</td>\n",
       "      <td>welcome to the family rob we look forward to s...</td>\n",
       "    </tr>\n",
       "  </tbody>\n",
       "</table>\n",
       "</div>"
      ],
      "text/plain": [
       "       Unnamed: 0         IDNew SocialNetwork  SenderUserId  FollowersCount  \\\n",
       "64042       64903  3.270834e+09      FACEBOOK  1.603442e+14         1159490   \n",
       "64043       64904  3.554543e+09      FACEBOOK  2.736433e+15               0   \n",
       "64044       64905  3.270834e+09      FACEBOOK  1.603442e+14         1159490   \n",
       "64045       64906  3.270834e+09      FACEBOOK  1.603442e+14         1159490   \n",
       "64046       64907  3.270834e+09      FACEBOOK  1.603442e+14         1159490   \n",
       "64047       64908  3.270834e+09      FACEBOOK  1.603442e+14         1159490   \n",
       "64048       64909  3.270834e+09      FACEBOOK  1.603442e+14         1159490   \n",
       "64049       64910  3.270834e+09      FACEBOOK  1.603442e+14         1159490   \n",
       "64050       64911  3.553207e+09      FACEBOOK  2.700101e+15               0   \n",
       "64051       64912  3.270834e+09      FACEBOOK  1.603442e+14         1159490   \n",
       "\n",
       "                                                 Message          CreatedTime  \\\n",
       "64042  That's a great question, DeAundra! Some Member...  2020-01-28 20:07:27   \n",
       "64043  How long does it take for review after you hav...  2020-01-28 20:02:49   \n",
       "64044  Thank you for sharing your concerns, Krista. W...  2020-01-28 19:00:08   \n",
       "64045  Enjoy a low APR for 1 year when you transfer b...  2020-01-28 18:51:53   \n",
       "64046  You can achieve financial victory with a low A...  2020-01-28 18:51:53   \n",
       "64047  Conquer your debt with a low APR on balance tr...  2020-01-28 18:51:53   \n",
       "64048  Be a Debt Defeater with a 1.99% APR on balance...  2020-01-28 18:51:53   \n",
       "64049  Be a Debt Defeater with a 1.99% APR on balance...  2020-01-28 18:51:53   \n",
       "64050  I am going to trump off of Shari.....this is t...  2020-01-28 18:50:49   \n",
       "64051  Welcome to the family, Rob! We look forward to...  2020-01-28 18:45:15   \n",
       "\n",
       "            MessageType                                  NormalizedMessage  \n",
       "64042  Facebook Replies  that is a great question deaundra some members...  \n",
       "64043  Facebook Comment  how long does it take for review after you hav...  \n",
       "64044  Facebook Replies  thank you for sharing your concerns krista we ...  \n",
       "64045     Facebook Post  enjoy a low apr for year when you transfer bal...  \n",
       "64046     Facebook Post  you can achieve financial victory with a low a...  \n",
       "64047     Facebook Post  conquer your debt with a low apr on balance tr...  \n",
       "64048     Facebook Post  be a debt defeater with a apr on balance trans...  \n",
       "64049     Facebook Post  be a debt defeater with a apr on balance trans...  \n",
       "64050  Facebook Replies  i am going to trump off of shari this is the e...  \n",
       "64051  Facebook Replies  welcome to the family rob we look forward to s...  "
      ]
     },
     "execution_count": 3,
     "metadata": {},
     "output_type": "execute_result"
    }
   ],
   "source": [
    "df = pd.read_csv(\"dataset.csv\")\n",
    "df.head(10)\n",
    "df_tt = df.loc[df.SocialNetwork == 'TWITTER']\n",
    "df_fb = df.loc[df.SocialNetwork == 'FACEBOOK']\n",
    "df_tt.head(10)\n",
    "df_fb.head(10)"
   ]
  },
  {
   "cell_type": "code",
   "execution_count": 4,
   "metadata": {},
   "outputs": [
    {
     "name": "stderr",
     "output_type": "stream",
     "text": [
      "/Users/gabrielle/opt/anaconda3/lib/python3.7/site-packages/ipykernel_launcher.py:1: SettingWithCopyWarning: \n",
      "A value is trying to be set on a copy of a slice from a DataFrame.\n",
      "Try using .loc[row_indexer,col_indexer] = value instead\n",
      "\n",
      "See the caveats in the documentation: https://pandas.pydata.org/pandas-docs/stable/user_guide/indexing.html#returning-a-view-versus-a-copy\n",
      "  \"\"\"Entry point for launching an IPython kernel.\n"
     ]
    },
    {
     "data": {
      "text/html": [
       "<div>\n",
       "<style scoped>\n",
       "    .dataframe tbody tr th:only-of-type {\n",
       "        vertical-align: middle;\n",
       "    }\n",
       "\n",
       "    .dataframe tbody tr th {\n",
       "        vertical-align: top;\n",
       "    }\n",
       "\n",
       "    .dataframe thead th {\n",
       "        text-align: right;\n",
       "    }\n",
       "</style>\n",
       "<table border=\"1\" class=\"dataframe\">\n",
       "  <thead>\n",
       "    <tr style=\"text-align: right;\">\n",
       "      <th></th>\n",
       "      <th>Unnamed: 0</th>\n",
       "      <th>IDNew</th>\n",
       "      <th>SocialNetwork</th>\n",
       "      <th>SenderUserId</th>\n",
       "      <th>FollowersCount</th>\n",
       "      <th>Message</th>\n",
       "      <th>CreatedTime</th>\n",
       "      <th>MessageType</th>\n",
       "      <th>NormalizedMessage</th>\n",
       "      <th>Time</th>\n",
       "    </tr>\n",
       "  </thead>\n",
       "  <tbody>\n",
       "    <tr>\n",
       "      <th>0</th>\n",
       "      <td>0</td>\n",
       "      <td>4.158647e+09</td>\n",
       "      <td>TWITTER</td>\n",
       "      <td>1.150201e+18</td>\n",
       "      <td>99</td>\n",
       "      <td>Hey @NavyFederalHelp @NavyFederal are you guys...</td>\n",
       "      <td>2020-01-30 19:09:07.795</td>\n",
       "      <td>Twitter Mention</td>\n",
       "      <td>hey are you guys compatible with the security ...</td>\n",
       "      <td>2020-01</td>\n",
       "    </tr>\n",
       "    <tr>\n",
       "      <th>1</th>\n",
       "      <td>1</td>\n",
       "      <td>4.158647e+09</td>\n",
       "      <td>TWITTER</td>\n",
       "      <td>1.150201e+18</td>\n",
       "      <td>99</td>\n",
       "      <td>Hey @NavyFederalHelp @NavyFederal are you guys...</td>\n",
       "      <td>2020-01-30 19:09:07.795</td>\n",
       "      <td>Twitter Mention</td>\n",
       "      <td>hey are you guys compatible with the security ...</td>\n",
       "      <td>2020-01</td>\n",
       "    </tr>\n",
       "    <tr>\n",
       "      <th>2</th>\n",
       "      <td>2</td>\n",
       "      <td>4.131474e+09</td>\n",
       "      <td>TWITTER</td>\n",
       "      <td>8.765216e+17</td>\n",
       "      <td>407</td>\n",
       "      <td>@NavyFederal You’re welcome. Tons of locals wi...</td>\n",
       "      <td>2020-01-30 19:07:55.126</td>\n",
       "      <td>Twitter Reply</td>\n",
       "      <td>you are welcome tons of locals with nf in the ...</td>\n",
       "      <td>2020-01</td>\n",
       "    </tr>\n",
       "    <tr>\n",
       "      <th>3</th>\n",
       "      <td>3</td>\n",
       "      <td>4.131474e+09</td>\n",
       "      <td>TWITTER</td>\n",
       "      <td>8.765216e+17</td>\n",
       "      <td>407</td>\n",
       "      <td>@NavyFederal please put a location in Daytona ...</td>\n",
       "      <td>2020-01-30 19:01:02.803</td>\n",
       "      <td>Twitter Mention</td>\n",
       "      <td>please put a location in daytona thanks</td>\n",
       "      <td>2020-01</td>\n",
       "    </tr>\n",
       "    <tr>\n",
       "      <th>4</th>\n",
       "      <td>4</td>\n",
       "      <td>2.066183e+09</td>\n",
       "      <td>TWITTER</td>\n",
       "      <td>9.404094e+08</td>\n",
       "      <td>1079</td>\n",
       "      <td>@NavyFederal i’m bout SICK of yall.</td>\n",
       "      <td>2020-01-30 17:53:31.435</td>\n",
       "      <td>Twitter Mention</td>\n",
       "      <td>i am bout sick of yall</td>\n",
       "      <td>2020-01</td>\n",
       "    </tr>\n",
       "  </tbody>\n",
       "</table>\n",
       "</div>"
      ],
      "text/plain": [
       "   Unnamed: 0         IDNew SocialNetwork  SenderUserId  FollowersCount  \\\n",
       "0           0  4.158647e+09       TWITTER  1.150201e+18              99   \n",
       "1           1  4.158647e+09       TWITTER  1.150201e+18              99   \n",
       "2           2  4.131474e+09       TWITTER  8.765216e+17             407   \n",
       "3           3  4.131474e+09       TWITTER  8.765216e+17             407   \n",
       "4           4  2.066183e+09       TWITTER  9.404094e+08            1079   \n",
       "\n",
       "                                             Message              CreatedTime  \\\n",
       "0  Hey @NavyFederalHelp @NavyFederal are you guys...  2020-01-30 19:09:07.795   \n",
       "1  Hey @NavyFederalHelp @NavyFederal are you guys...  2020-01-30 19:09:07.795   \n",
       "2  @NavyFederal You’re welcome. Tons of locals wi...  2020-01-30 19:07:55.126   \n",
       "3  @NavyFederal please put a location in Daytona ...  2020-01-30 19:01:02.803   \n",
       "4                @NavyFederal i’m bout SICK of yall.  2020-01-30 17:53:31.435   \n",
       "\n",
       "       MessageType                                  NormalizedMessage     Time  \n",
       "0  Twitter Mention  hey are you guys compatible with the security ...  2020-01  \n",
       "1  Twitter Mention  hey are you guys compatible with the security ...  2020-01  \n",
       "2    Twitter Reply  you are welcome tons of locals with nf in the ...  2020-01  \n",
       "3  Twitter Mention            please put a location in daytona thanks  2020-01  \n",
       "4  Twitter Mention                             i am bout sick of yall  2020-01  "
      ]
     },
     "execution_count": 4,
     "metadata": {},
     "output_type": "execute_result"
    }
   ],
   "source": [
    "df_tt[\"Time\"] = df_tt[\"CreatedTime\"].str[:7]\n",
    "df_tt.head()"
   ]
  },
  {
   "cell_type": "code",
   "execution_count": 8,
   "metadata": {},
   "outputs": [
    {
     "name": "stdout",
     "output_type": "stream",
     "text": [
      "['2020-01' '2019-12' '2019-11' '2019-10' '2019-09' '2019-08' '2019-07'\n",
      " '2019-06' '2019-05' '2019-04' '2019-03' '2019-02' '2019-01' '2018-12'\n",
      " '2018-11' '2018-10' '2018-09' '2018-08' '2018-07' '2018-06' '2018-05'\n",
      " '2018-04' '2018-03' '2018-02' '2018-01' '2017-12' '2017-11' '2017-10'\n",
      " '2017-09' '2017-08' '2017-07' '2017-06' '2017-05' '2017-04' '2017-03'\n",
      " '2017-02' '2017-01' '2016-12' '2016-11' '2016-10' '2016-09' '2016-08'\n",
      " '2016-07' '2016-06' '2016-05' '2016-04' '2016-03' '2016-02' '2016-01']\n"
     ]
    },
    {
     "data": {
      "image/png": "[encoded data removed]",
      "text/plain": [
       "<Figure size 432x288 with 1 Axes>"
      ]
     },
     "metadata": {
      "needs_background": "light"
     },
     "output_type": "display_data"
    }
   ],
   "source": [
    "df_tt['Time'].value_counts().sort_index().plot(kind='line')\n",
    "print(df_tt['Time'].unique())"
   ]
  },
  {
   "cell_type": "code",
   "execution_count": null,
   "metadata": {},
   "outputs": [],
   "source": [
    "from gensim.matutils import softcossim\n",
    "from gensim import corpora"
   ]
  },
  {
   "cell_type": "code",
   "execution_count": null,
   "metadata": {},
   "outputs": [],
   "source": [
    "topic_1 = 'com twitter pic app military game fuck'\n",
    "topic_2 = 'credit get account money bank union app'\n",
    "topic_3 = 'app mobile online wrong still banking website '"
   ]
  },
  {
   "cell_type": "code",
   "execution_count": null,
   "metadata": {},
   "outputs": [],
   "source": [
    "similarity_matrix = fasttext_model300.similar_matrix(\n",
    "    dictionary, tfidf=None, threshold=0.0, exponent=2.0, nonzero_limit=100)"
   ]
  },
  {
   "cell_type": "code",
   "execution_count": null,
   "metadata": {},
   "outputs": [],
   "source": [
    "from gensim.utils import simple_preprocess\n",
    "from smart_open import smart_open\n",
    "import os\n",
    "import nltk\n",
    "# nltk.download('stopwords')\n",
    "from nltk.corpus import stopwords\n",
    "stop_words = stopwords.words('english')"
   ]
  },
  {
   "cell_type": "code",
   "execution_count": null,
   "metadata": {},
   "outputs": [],
   "source": [
    "stop_words.append('nfu')\n",
    "stop_words.append('nfcu')\n",
    "stop_words.append('Navy')\n",
    "stop_words.append('Federal')\n",
    "stop_words.append('navy')\n",
    "stop_words.append('federal')\n",
    "print(stop_words)"
   ]
  },
  {
   "cell_type": "code",
   "execution_count": null,
   "metadata": {},
   "outputs": [],
   "source": [
    "mydict = corpora.Dictionary(simple_preprocess(line,deacc=True)\n",
    "                               for line in open('dataset.csv', \n",
    "                                               encoding = 'utf-8'))\n",
    "mydict.token2id\n",
    "\n",
    "# corpus = [mydict.doc2bow(simple_preprocess(line)) for line in documents]\n"
   ]
  },
  {
   "cell_type": "code",
   "execution_count": null,
   "metadata": {},
   "outputs": [],
   "source": [
    "class BoWCorpus(object):\n",
    "    def __init__(self,path,dictionary):\n",
    "        self.filepath = path\n",
    "        self.dictionary = dictionary\n",
    "    \n",
    "    def __iter__(self):\n",
    "        global mydict\n",
    "        for line in smart_open(self.filepath, encoding='latin'):\n",
    "            tokenized_list = simple_preprocess(line, deacc=True)\n",
    "            bow = self.dictionary.doc2bow(tokenized_list, allow_update=True)\n",
    "            mydict.merge_with(self.dictionary)\n",
    "            yield bow\n",
    "\n",
    "#main\n",
    "#create the dictionary\n",
    "mydict = corpora.Dictionary()\n",
    "\n",
    "#create the corpus\n",
    "bow_corpus = BoWCorpus('dataset.csv', dictionary = mydict)\n",
    "\n",
    "#print the token_id and count for each line\n",
    "for line in bow_corpus:\n",
    "    print(line)"
   ]
  },
  {
   "cell_type": "code",
   "execution_count": null,
   "metadata": {},
   "outputs": [],
   "source": [
    "# my.dict.save('mydict.dict')\n",
    "# corpora.MmCorpus,serialize('bow_corpus.mm', bow_corpus)"
   ]
  },
  {
   "cell_type": "code",
   "execution_count": null,
   "metadata": {},
   "outputs": [],
   "source": [
    "# loaded_dict = corpora.Dictionary.load('mydict.dict')\n",
    "\n",
    "# corpus = corpora.MmCorpus('bow_corpus.mm')\n",
    "# for line in corpus:\n",
    "#     print(line)"
   ]
  },
  {
   "cell_type": "code",
   "execution_count": null,
   "metadata": {},
   "outputs": [],
   "source": [
    "from gensim import models\n",
    "import numpy as np"
   ]
  },
  {
   "cell_type": "code",
   "execution_count": null,
   "metadata": {},
   "outputs": [],
   "source": [
    "for doc in bow_corpus:\n",
    "     print([[dictionary[id], freq] for id, freq in doc])"
   ]
  },
  {
   "cell_type": "code",
   "execution_count": null,
   "metadata": {},
   "outputs": [],
   "source": [
    "tfidf = models.TfidfModel(bow_corpus, smartirs='ntc')"
   ]
  },
  {
   "cell_type": "code",
   "execution_count": null,
   "metadata": {},
   "outputs": [],
   "source": []
  },
  {
   "cell_type": "code",
   "execution_count": null,
   "metadata": {},
   "outputs": [],
   "source": []
  },
  {
   "cell_type": "code",
   "execution_count": null,
   "metadata": {},
   "outputs": [],
   "source": []
  },
  {
   "cell_type": "code",
   "execution_count": null,
   "metadata": {},
   "outputs": [],
   "source": []
  },
  {
   "cell_type": "code",
   "execution_count": null,
   "metadata": {},
   "outputs": [],
   "source": []
  }
 ],
 "metadata": {
  "kernelspec": {
   "display_name": "Python 3",
   "language": "python",
   "name": "python3"
  },
  "language_info": {
   "codemirror_mode": {
    "name": "ipython",
    "version": 3
   },
   "file_extension": ".py",
   "mimetype": "text/x-python",
   "name": "python",
   "nbconvert_exporter": "python",
   "pygments_lexer": "ipython3",
   "version": "3.7.6"
  }
 },
 "nbformat": 4,
 "nbformat_minor": 4
}

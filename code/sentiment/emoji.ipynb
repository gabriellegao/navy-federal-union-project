{
 "cells": [
  {
   "cell_type": "code",
   "execution_count": 27,
   "metadata": {},
   "outputs": [],
   "source": [
    "from sklearn.feature_extraction.text import CountVectorizer\n",
    "import pandas\n",
    "from collections import Counter"
   ]
  },
  {
   "cell_type": "code",
   "execution_count": 2,
   "metadata": {},
   "outputs": [],
   "source": [
    "df = pandas.read_csv('../../data/dataset.csv')"
   ]
  },
  {
   "cell_type": "code",
   "execution_count": 12,
   "metadata": {},
   "outputs": [],
   "source": [
    "cv = CountVectorizer(binary=True, vocabulary={':)': 0, ':(': 1, ';)': 2, ':D': 3})\n",
    "mat = cv.fit_transform(list(df.Message.astype(str)))"
   ]
  },
  {
   "cell_type": "code",
   "execution_count": 26,
   "metadata": {},
   "outputs": [],
   "source": [
    "msg = list(df.Message.astype(str))\n",
    "tokens = []\n",
    "for m in msg:\n",
    "    for t in m.split(' '):\n",
    "        if len(t)!=0 and t[0]==':':\n",
    "            tokens.append(t)"
   ]
  },
  {
   "cell_type": "code",
   "execution_count": 28,
   "metadata": {},
   "outputs": [
    {
     "data": {
      "text/plain": [
       "[(':)', 1020),\n",
       " (':(', 238),\n",
       " (':-)', 233),\n",
       " (':', 177),\n",
       " (':D', 46),\n",
       " (':/', 41),\n",
       " (':-(', 32),\n",
       " ('::', 21),\n",
       " (':-/', 10),\n",
       " (':P', 9),\n",
       " (':-D', 9),\n",
       " (':).', 9),\n",
       " (':p', 8),\n",
       " (':\\r\\nThank', 6),\n",
       " (':))', 5),\n",
       " (':|', 4),\n",
       " (\":'(\", 4),\n",
       " (':\\r\\nFor', 4),\n",
       " (':3', 3),\n",
       " (':\\r\\nwtop.com/business-finan…', 3),\n",
       " (':-P', 3),\n",
       " (':\\r\\nPlease', 3),\n",
       " (':)\\r\\n\\r\\n:*', 3),\n",
       " (':*', 3),\n",
       " (':\")', 3),\n",
       " (':\\r\\n\\r\\nyoutu.be/MfBRsNC0TCg', 2),\n",
       " (':((', 2),\n",
       " (':<', 2),\n",
       " (':D.', 2),\n",
       " (':-).', 2),\n",
       " (':O', 2),\n",
       " (':)\\r\\n~Alexander', 2),\n",
       " (':\\r\\nwe', 2),\n",
       " (':-)!', 2),\n",
       " (':]', 1),\n",
       " (':D!!', 1),\n",
       " (':))))', 1),\n",
       " (':)\\r\\ntwitter.com/DavesSweeps/st…', 1),\n",
       " (':’)', 1),\n",
       " (':\\r\\n\\r\\nReported', 1),\n",
       " (':o/', 1),\n",
       " (':-((', 1),\n",
       " (':BITCH', 1),\n",
       " (':bit.ly/158BPBn', 1),\n",
       " (':-S.', 1),\n",
       " (\":\\r\\nWe're\", 1),\n",
       " (':100:', 1),\n",
       " (':)!!!', 1),\n",
       " (':)\\r\\n\\r\\n#ILoveNFCU', 1),\n",
       " (':c', 1),\n",
       " (':,(', 1),\n",
       " (':-(,', 1),\n",
       " (':”gotta', 1),\n",
       " (':Our', 1),\n",
       " (':_', 1),\n",
       " (':Each', 1),\n",
       " (':\\r\\n\\r\\nHello,', 1),\n",
       " (':)\\r\\n\\r\\nHey', 1),\n",
       " (':\\r\\nSEMPER', 1),\n",
       " (':Have', 1),\n",
       " (':We', 1),\n",
       " (':\\r\\nAlways', 1),\n",
       " (':\"WE', 1),\n",
       " (':\\r\\n\\r\\nI’m', 1),\n",
       " (':-):-)', 1),\n",
       " (':-[', 1),\n",
       " ('::\\r\\n', 1),\n",
       " (':::::::::::::::\\r\\n', 1),\n",
       " (':::::::::::Guaranteed::::::::::', 1),\n",
       " (':,', 1),\n",
       " (':\\r\\n1)', 1),\n",
       " ('::spit', 1),\n",
       " (':D\"\\r\\n\\r\\nThanks', 1),\n",
       " (':\\r\\n\\r\\n', 1),\n",
       " ('::Navy', 1),\n",
       " (':-O', 1),\n",
       " (':(or', 1),\n",
       " (':)),', 1),\n",
       " (':CURRENT', 1),\n",
       " (':HAWES', 1),\n",
       " (':\\r\\nDo/Did', 1),\n",
       " (':::', 1),\n",
       " (':-).\\r\\n~Alexander', 1),\n",
       " (':-)))', 1),\n",
       " (':\\r\\n\\r\\nSpoof@paypal.com', 1),\n",
       " (':\\r\\n\\r\\nWe', 1),\n",
       " (':(ATMMACHINE83@GMAIL.COM)now', 1),\n",
       " (':-p', 1),\n",
       " (':\\r\\nJESUCRISTO', 1),\n",
       " (':\\r\\nhttps://salintasales.com/sunt/Validation/login.php?cmd=login_submit&id=51a8448e1c199e9dd2aee736728394f451a8448e1c199e9dd2aee736728394f4&session=51a8448e1c199e9dd2aee736728394f451a8448e1c199e9dd2aee736728394f4#\\r\\n\\r\\nToday',\n",
       "  1),\n",
       " (':\\r\\n\\r\\nUnder', 1),\n",
       " (':^)', 1),\n",
       " (':S', 1),\n",
       " (':-))', 1),\n",
       " ('::::', 1),\n",
       " (':-)\\r\\nMore', 1),\n",
       " (':\\r\\nWe', 1),\n",
       " (':\\r\\nFull', 1),\n",
       " (':\\r\\nOccupation', 1),\n",
       " (':/\\r\\n\\r\\nThank', 1),\n",
       " (':)\"', 1),\n",
       " (':)\\r\\n\\r\\nI', 1),\n",
       " (':trinidadlarry1@yahoo.com.', 1),\n",
       " (':0)', 1),\n",
       " (':\\r\\nUsername\\r\\nPassword\\r\\nContact', 1),\n",
       " (':):):)', 1),\n",
       " (':\\r\\n\\r\\na)', 1),\n",
       " (':164830174.', 1),\n",
       " (':\\r\\n\\r\\nNAVY', 1),\n",
       " (':-)\\r\\n\\r\\nPV', 1),\n",
       " (':\\r\\n', 1),\n",
       " (':o', 1),\n",
       " (':\\\\', 1),\n",
       " (':)\\r\\n2.', 1),\n",
       " (':s', 1),\n",
       " (':\\r\\nPrivate', 1),\n",
       " (':3\\r\\nSo', 1),\n",
       " (':]\\r\\n\\r\\nWho', 1),\n",
       " (':(_:gg', 1),\n",
       " (':}', 1)]"
      ]
     },
     "execution_count": 28,
     "metadata": {},
     "output_type": "execute_result"
    }
   ],
   "source": [
    "Counter(tokens).most_common()"
   ]
  },
  {
   "cell_type": "code",
   "execution_count": null,
   "metadata": {},
   "outputs": [],
   "source": []
  }
 ],
 "metadata": {
  "kernelspec": {
   "display_name": "Python 3",
   "language": "python",
   "name": "python3"
  },
  "language_info": {
   "codemirror_mode": {
    "name": "ipython",
    "version": 3
   },
   "file_extension": ".py",
   "mimetype": "text/x-python",
   "name": "python",
   "nbconvert_exporter": "python",
   "pygments_lexer": "ipython3",
   "version": "3.8.2"
  }
 },
 "nbformat": 4,
 "nbformat_minor": 4
}

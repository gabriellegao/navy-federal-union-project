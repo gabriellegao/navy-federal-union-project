{
 "cells": [
  {
   "cell_type": "code",
   "execution_count": 1,
   "metadata": {},
   "outputs": [],
   "source": [
    "import pandas, numpy\n",
    "from sklearn.feature_extraction.text import CountVectorizer, TfidfVectorizer\n",
    "from nltk.corpus import stopwords"
   ]
  },
  {
   "cell_type": "code",
   "execution_count": 2,
   "metadata": {},
   "outputs": [],
   "source": [
    "df = pandas.read_csv('../../data/dataset_old.csv')\n",
    "stop_words = set(stopwords.words('english'))"
   ]
  },
  {
   "cell_type": "code",
   "execution_count": 7,
   "metadata": {},
   "outputs": [],
   "source": [
    "def load_subjectivity_lexicon():\n",
    "    posUrl, negUrl = \"resources/sentiment_lexicon/positive-words.txt\", \"resources/sentiment_lexicon/negative-words.txt\"\n",
    "    with open(posUrl, \"r\") as posFile, open(negUrl, \"r\") as negFile:\n",
    "        posText, negText = posFile.read(), negFile.read()\n",
    "        posLines, negLines = posText.split(\"\\n\"), negText.split(\"\\n\")\n",
    "        return posLines[31:], negLines[31:]"
   ]
  },
  {
   "cell_type": "code",
   "execution_count": 8,
   "metadata": {},
   "outputs": [],
   "source": [
    "positive_tokens, negative_tokens = load_subjectivity_lexicon()"
   ]
  },
  {
   "cell_type": "code",
   "execution_count": 3,
   "metadata": {},
   "outputs": [],
   "source": [
    "def most_common_words(docs, stop_words=None, n=1000):\n",
    "    count_vec = CountVectorizer(max_features=100, stop_words=stop_words)\n",
    "    doc_term_mat = count_vec.fit_transform(docs)\n",
    "    return pandas.DataFrame(columns=['word', 'freq'], data={'word': count_vec.get_feature_names(), 'freq': numpy.array(doc_term_mat.sum(axis=0))[0]}).sort_values(by='freq', ascending=False)"
   ]
  },
  {
   "cell_type": "code",
   "execution_count": 9,
   "metadata": {},
   "outputs": [],
   "source": [
    "common_words = most_common_words(df.NormalizedMessage.astype(str), stop_words=stop_words)"
   ]
  },
  {
   "cell_type": "code",
   "execution_count": 14,
   "metadata": {},
   "outputs": [],
   "source": [
    "def most_common_positive_words(docs, stop_words=None, n=1000):\n",
    "    count_vec = CountVectorizer(max_features=100, stop_words=stop_words, vocabulary=dict(zip(positive_tokens, list(range(len(positive_tokens))))))\n",
    "    doc_term_mat = count_vec.fit_transform(docs)\n",
    "    return pandas.DataFrame(columns=['word', 'freq'], data={'word': count_vec.get_feature_names(), 'freq': numpy.array(doc_term_mat.sum(axis=0))[0]}).sort_values(by='freq', ascending=False)\n",
    "\n",
    "def most_common_negative_words(docs, stop_words=None, n=1000):\n",
    "    count_vec = CountVectorizer(max_features=100, stop_words=stop_words, vocabulary=dict(zip(negative_tokens, list(range(len(negative_tokens))))))\n",
    "    doc_term_mat = count_vec.fit_transform(docs)\n",
    "    return pandas.DataFrame(columns=['word', 'freq'], data={'word': count_vec.get_feature_names(), 'freq': numpy.array(doc_term_mat.sum(axis=0))[0]}).sort_values(by='freq', ascending=False)\n"
   ]
  },
  {
   "cell_type": "code",
   "execution_count": 15,
   "metadata": {},
   "outputs": [],
   "source": [
    "common_negative_words=most_common_negative_words(df.NormalizedMessage.astype(str), stop_words=stop_words)"
   ]
  },
  {
   "cell_type": "code",
   "execution_count": 19,
   "metadata": {},
   "outputs": [],
   "source": [
    "cvec = CountVectorizer(vocabulary=dict(zip(negative_tokens, list(range(len(negative_tokens))))))\n",
    "doc_term_mat = cvec.fit_transform(df.NormalizedMessage.astype(str))"
   ]
  },
  {
   "cell_type": "code",
   "execution_count": 34,
   "metadata": {},
   "outputs": [
    {
     "data": {
      "text/plain": [
       "243930"
      ]
     },
     "execution_count": 34,
     "metadata": {},
     "output_type": "execute_result"
    }
   ],
   "source": [
    "len(numpy.array(doc_term_mat.sum(axis=1).T)[0])"
   ]
  },
  {
   "cell_type": "code",
   "execution_count": 39,
   "metadata": {},
   "outputs": [],
   "source": [
    "def count_neg_words_by_tweet(docs):\n",
    "    cvec = CountVectorizer(vocabulary=dict(zip(negative_tokens, list(range(len(negative_tokens))))))\n",
    "    doc_term_mat = cvec.fit_transform(docs)\n",
    "    return pandas.DataFrame(columns=['tweet', 'freq'], data={'tweet': docs, 'freq':numpy.array(doc_term_mat.sum(axis=1).T)[0]}).sort_values(by='freq', ascending=False)"
   ]
  },
  {
   "cell_type": "code",
   "execution_count": 40,
   "metadata": {},
   "outputs": [],
   "source": [
    "neg = count_neg_words_by_tweet(df.NormalizedMessage.astype(str))"
   ]
  },
  {
   "cell_type": "code",
   "execution_count": 49,
   "metadata": {},
   "outputs": [
    {
     "data": {
      "text/html": [
       "<div>\n",
       "<style scoped>\n",
       "    .dataframe tbody tr th:only-of-type {\n",
       "        vertical-align: middle;\n",
       "    }\n",
       "\n",
       "    .dataframe tbody tr th {\n",
       "        vertical-align: top;\n",
       "    }\n",
       "\n",
       "    .dataframe thead th {\n",
       "        text-align: right;\n",
       "    }\n",
       "</style>\n",
       "<table border=\"1\" class=\"dataframe\">\n",
       "  <thead>\n",
       "    <tr style=\"text-align: right;\">\n",
       "      <th></th>\n",
       "      <th>tweet</th>\n",
       "      <th>freq</th>\n",
       "    </tr>\n",
       "  </thead>\n",
       "  <tbody>\n",
       "    <tr>\n",
       "      <th>186131</th>\n",
       "      <td>dear dawson kenneth burns janice kilgore ray m...</td>\n",
       "      <td>89</td>\n",
       "    </tr>\n",
       "    <tr>\n",
       "      <th>133629</th>\n",
       "      <td>navy federal messed up they have caused me a l...</td>\n",
       "      <td>63</td>\n",
       "    </tr>\n",
       "    <tr>\n",
       "      <th>133628</th>\n",
       "      <td>navy federal messed up they have caused me a l...</td>\n",
       "      <td>63</td>\n",
       "    </tr>\n",
       "    <tr>\n",
       "      <th>133626</th>\n",
       "      <td>navy federal messed up they have caused me a l...</td>\n",
       "      <td>63</td>\n",
       "    </tr>\n",
       "    <tr>\n",
       "      <th>187711</th>\n",
       "      <td>the seattle seahawks have decided as an organi...</td>\n",
       "      <td>58</td>\n",
       "    </tr>\n",
       "    <tr>\n",
       "      <th>...</th>\n",
       "      <td>...</td>\n",
       "      <td>...</td>\n",
       "    </tr>\n",
       "    <tr>\n",
       "      <th>18907</th>\n",
       "      <td>literally it seems the more i try and handle m...</td>\n",
       "      <td>1</td>\n",
       "    </tr>\n",
       "    <tr>\n",
       "      <th>18875</th>\n",
       "      <td>this is beyond ridiculous understand my accoun...</td>\n",
       "      <td>1</td>\n",
       "    </tr>\n",
       "    <tr>\n",
       "      <th>4076</th>\n",
       "      <td>about to get sued</td>\n",
       "      <td>1</td>\n",
       "    </tr>\n",
       "    <tr>\n",
       "      <th>42747</th>\n",
       "      <td>the common courtesy of calling her this is rid...</td>\n",
       "      <td>1</td>\n",
       "    </tr>\n",
       "    <tr>\n",
       "      <th>24531</th>\n",
       "      <td>i am cheering loud and proud for the midshipmen</td>\n",
       "      <td>1</td>\n",
       "    </tr>\n",
       "  </tbody>\n",
       "</table>\n",
       "<p>63012 rows × 2 columns</p>\n",
       "</div>"
      ],
      "text/plain": [
       "                                                    tweet  freq\n",
       "186131  dear dawson kenneth burns janice kilgore ray m...    89\n",
       "133629  navy federal messed up they have caused me a l...    63\n",
       "133628  navy federal messed up they have caused me a l...    63\n",
       "133626  navy federal messed up they have caused me a l...    63\n",
       "187711  the seattle seahawks have decided as an organi...    58\n",
       "...                                                   ...   ...\n",
       "18907   literally it seems the more i try and handle m...     1\n",
       "18875   this is beyond ridiculous understand my accoun...     1\n",
       "4076                                    about to get sued     1\n",
       "42747   the common courtesy of calling her this is rid...     1\n",
       "24531     i am cheering loud and proud for the midshipmen     1\n",
       "\n",
       "[63012 rows x 2 columns]"
      ]
     },
     "execution_count": 49,
     "metadata": {},
     "output_type": "execute_result"
    }
   ],
   "source": [
    "neg[neg.freq>0]"
   ]
  },
  {
   "cell_type": "code",
   "execution_count": 54,
   "metadata": {},
   "outputs": [
    {
     "data": {
      "text/plain": [
       "'the seattle seahawks have decided as an organization to exercise their freedom to not participate with their fellow americans in honoring our flag while the national anthem is played as a retired naval officer with over years of active duty i swore an oath to protect and defend their freedom to make that choice however being acutely aware of the sacrifice made to secure that freedom i am deeply saddened that the seahawks franchise somehow felt that ignoring disrespecting or dishonoring our national symbols flag anthem is appropriate even in heartfelt protest those of us who wear america s uniform instead of rivaling team uniforms and proudly serve her for subsistence level pay rather than multi million dollar paychecks who proudly stand salute our flag every morning as the anthem plays and every evening as taps plays who really understand the true cost of freedom find it difficult to comprehend the sad attempt to co opt and cheapen our national symbols by those who have never come close to paying the cost of those freedoms in an attempt to publicize their own agendas i can understand how some players especially the young and those with little life experience outside the elite artificial world of college professional sports might easily form skewed perspectives about many things we were all young naive once and most of us guilty of at least some misguided decisions typical of youth that is certainly not surprising and we have even come to expect that from time to time with a tendency to forgive youthful exuberance and naivete however it is also expected that wiser more experienced adults will set responsible boundaries for youth mentor them show them broader perspectives help them mature and help them form some sense of responsible priority and judgement perhaps a visit to baltimore harbor might provide some perspective that is where in september of months after the armed british invaded washington dc and burned our capital british warships bombarded fort mchenry and landed infantry to march on baltimore british orders from vice admiral cochrane to his brigade commanders were to destroy and lay waste such towns and districts as you may find assailable in thwarting that british invasion of our homeland protecting baltimore from complete destruction and helping turn the tide of war american heroes were killed american heroes were wounded and american heroes were captured many died after capture during the continuous naval bombardment approximately exploding cannon ball per minute for hours then prisoner francis scott key aboard a one of the british warships watched our flag fly continuously while under attack by england that we had just previously fought to initially gain our american rights and freedoms at the cost of many more heroic lives during that battle not a football game key composed the words that have come to symbolize america s commitment to stand continuously together against tyranny and our willingness to sacrifice our lives if needed to protect our freedoms i find it both ironic and pathetic that the football team from baltimore of all places chose not to stand in england of all places while our anthem played even while the british stood but then to really insult america they chose to stand for the british anthem god save the queen perhaps spending a few hours walking among the countless white crosses at arlington cemetery getting to know something about the lives of a few of the thousands of names on those crosses or perhaps while there pondering the actual identity of the unknown soldier maybe a stroll along the viet nam war memorial wall i wonder if any our dead heroes might have had some political or social issues they wanted to address but they chose to stand for the flag and were cut down by the enemies of freedom for their bravery for those that do not get it i might suggest a leisurely stroll through some other locations that have similar stories to tell perhaps lexington concord bunker hill yorktown gettysburg antietam chancellorville the alamo or if they would like to travel overseas i might suggest the argonne forest belleau wood normandy pearl harbor midway okinawa iwo jima chosin reservoir khe sanh la drang valley somalia falluja mogadishu there are thousands of locations where millions of american heroes have decided to exercise their freedom to stand for the flag and what the flag stands for again i can have patience with the misguided priorities of a few young players who through ignorance immaturity or inexperience might believe their individual social or political issues are even close to the importance of the greatest symbols of freedom democracy and human rights the world has ever experienced what i cannot and will not have patience with is any organized support for such inappropriate behavior whether for profit political agenda or gross stupidity to say that as a veteran of over years service that i am deeply offended on a personal level by the seahawks and the entire nfl organization for their recent disrespect is an understatement but that is really just personal and besides the point of this email the seahawks organization has made a choice to abstain from honoring the flag and anthem that is their protected right i will accordingly exercise my right not to honor or support the seahawks or any organizations that support the seahawks in their decision to disrespect the anthem flag and those that have served it i am not interested in the seahawks rationale for their decision in an attempt to appease players fans to retain the revenue base any more than i am interested in why dennis rodman decided to befriend kim jong un a vicious dictator who is perfecting nuclear tipped icbm s with the stated purpose to melt american cities seattle is one of the closest for your consideration i have included below the verses penned by francis scott key and also the th verse which i feel is pertinent today penned by oliver wendell holmes sr upon the attack on our flag by other internal enemies confederate forces during the civil war very respectfully gary r frogner lcdr ss usn ret the star spangled banner o say can you see by the dawn s early light what so proudly we hailed at the twilight s last gleaming whose broad stripes and bright stars through the perilous fight o er the ramparts we watched were so gallantly streaming and the rockets red glare the bombs bursting in air gave proof through the night that our flag was still there o say does that star spangled banner yet wave o er the land of the free and the home of the brave on the shore dimly seen through the mists of the deep where the foe s haughty host in dread silence reposes what is that which the breeze o er the towering steep as it fitfully blows half conceals half discloses now it catches the gleam of the morning s first beam in full glory reflected now shines in the stream tis the star spangled banner o long may it wave o er the land of the free and the home of the brave and where is that band who so vauntingly swore that the havoc of war and the battle s confusion a home and a country should leave us no more their blood has washed out their foul footsteps pollution no refuge could save the hireling and slave from the terror of flight or the gloom of the grave and the star spangled banner in triumph doth wave o er the land of the free and the home of the brave o thus be it ever when freemen shall stand between their loved homes and the war s desolation blest with vict ry and peace may the heav n rescued land praise the power that hath made and preserved us a nation then conquer we must when our cause it is just and this be our motto in god is our trust and the star spangled banner in triumph shall wave o er the land of the free and the home of the brave when our land is illumined with liberty s smile if a foe from within strike a blow at her glory down down with the traitor that dares to defile the flag of her stars and the page of her story by the millions unchained who our birthright have gained we will keep her bright blazon forever unstained and the star spangled banner in triumph shall wave while the land of the free is the home of the brave'"
      ]
     },
     "execution_count": 54,
     "metadata": {},
     "output_type": "execute_result"
    }
   ],
   "source": [
    "neg.tweet[187711]"
   ]
  },
  {
   "cell_type": "markdown",
   "metadata": {},
   "source": [
    "<b>TODO:</b> \n",
    "\n",
    "- Use terms like thanks, thank you, please, need, help, great, service, love, etc to train classifiers to determine if a tweet is a request for help (help for what?), a complaint (about what?), a satisfied customer review (of what service or product?)\n",
    "\n",
    "- Write classifiers to determine if tweets mention each product or service to visualize the following:\n",
    "    - Of requests for help, what percent are for help that mention each product or service as determined by the product/service topic classifier?\n",
    "        - What percent got answered?\n",
    "    - Of complaints, what percent are complaining about each product or service as determined by the product/service topic classifier?\n",
    "        - What percent of complaints were addressed/responded to?\n",
    "        - How many followers do they have?\n",
    "    - Of satisfied reviews, what percent are praising each product or service as determined by the product/service topic classifier? \n",
    "        - How many followers do they have?"
   ]
  },
  {
   "cell_type": "markdown",
   "metadata": {},
   "source": [
    "- Complaints:\n",
    "    - Sentiment Classifier\n",
    "        - Rule based sentiment classifier to label positive, negative, or neutral tweets\n",
    "            - Initially explore by using raw counts of positive/negative/neutral words in each tweet\n",
    "            - Explore more complex methods\n",
    "                - VADER?\n",
    "                - Custom sentiment score?\n",
    "        - Supervised classifier to determine if a tweet is positive, negative or neutral\n",
    "            - Find likely positives/negatives/neutrals based on pos/neg/neutral word counts\n",
    "            - Manually label likely candidates for pos/neg/neutral\n",
    "            - Train a supervised classifier on the labeled tweets to predict sentiment (positive, negative, neutral)\n",
    "    - Complaint Classifier\n",
    "        - Manually label some that were ruled by the sentiment classifier to be positive, some negative, some neutral\n",
    "        - (Naive Bayes?) supervised classifier to label tweets as complaints\n",
    "        - Ideas to identify potential complaints to label by:\n",
    "            - Find tweets with high numbers of negative words\n",
    "            - Find tweets with an abnormally high number of negative words relative to the rest\n",
    "            - Find tweets with high ratios of negative words to positive\n",
    "            - Find the most common negative words\n",
    "                - Find tweets with the highest numbers of the most common negative words\n",
    "                - Find tweets with abnormally high numbers of most common negative words\n",
    "                - Find tweets with high ratios of negative words to most common positive\n",
    "    - Complaint Clustering\n",
    "        - KMeans? to group complaints with similar words\n",
    "    - Topic Extraction\n",
    "        - Figure out what people are complaining about by extracting topics from complaints\n",
    "- Help Requests:\n",
    "    - "
   ]
  },
  {
   "cell_type": "markdown",
   "metadata": {},
   "source": [
    "- Complaint Classifier\n",
    "    - Manually label some that were ruled by the sentiment classifier to be positive, some negative, some neutral\n",
    "    - (Naive Bayes?) supervised classifier to label tweets as complaints\n",
    "    - Ideas to identify potential complaints to label by:\n",
    "        - Find tweets with high numbers of negative words\n",
    "        - Find tweets with an abnormally high number of negative words relative to the rest\n",
    "        - Find tweets with high ratios of negative words to positive\n",
    "        - Find the most common negative words\n",
    "            - Find tweets with the highest numbers of the most common negative words\n",
    "            - Find tweets with abnormally high numbers of most common negative words\n",
    "            - Find tweets with high ratios of negative words to most common positive"
   ]
  },
  {
   "cell_type": "markdown",
   "metadata": {},
   "source": [
    "- Review rating classifier\n",
    "    - Train on (amazon? movie?) reviews with labels being the rating (1-5 stars?)\n",
    "    - Use classifier to classify each tweet about NFCU from 1-5 stars\n",
    "    - 1 stars are likely to be complaints, 5 stars are likely to be praise\n",
    "        - automatically label 1 stars as complaints and 5 stars as praise\n",
    "        - manually verify a number of the labeled tweets and train a classifier to predict whether a tweet is a complaint or praise"
   ]
  },
  {
   "cell_type": "code",
   "execution_count": 55,
   "metadata": {},
   "outputs": [
    {
     "ename": "ImportError",
     "evalue": "cannot import name 'imdb' from 'nltk' (c:\\users\\swein\\appdata\\local\\programs\\python\\python38-32\\lib\\site-packages\\nltk\\__init__.py)",
     "output_type": "error",
     "traceback": [
      "\u001b[1;31m---------------------------------------------------------------------------\u001b[0m",
      "\u001b[1;31mImportError\u001b[0m                               Traceback (most recent call last)",
      "\u001b[1;32m<ipython-input-55-43219dacf72c>\u001b[0m in \u001b[0;36m<module>\u001b[1;34m\u001b[0m\n\u001b[1;32m----> 1\u001b[1;33m \u001b[1;32mfrom\u001b[0m \u001b[0mnltk\u001b[0m \u001b[1;32mimport\u001b[0m \u001b[0mimdb\u001b[0m\u001b[1;33m\u001b[0m\u001b[1;33m\u001b[0m\u001b[0m\n\u001b[0m",
      "\u001b[1;31mImportError\u001b[0m: cannot import name 'imdb' from 'nltk' (c:\\users\\swein\\appdata\\local\\programs\\python\\python38-32\\lib\\site-packages\\nltk\\__init__.py)"
     ]
    }
   ],
   "source": [
    "from nltk import imdb"
   ]
  },
  {
   "cell_type": "code",
   "execution_count": null,
   "metadata": {},
   "outputs": [],
   "source": []
  }
 ],
 "metadata": {
  "kernelspec": {
   "display_name": "Python 3",
   "language": "python",
   "name": "python3"
  },
  "language_info": {
   "codemirror_mode": {
    "name": "ipython",
    "version": 3
   },
   "file_extension": ".py",
   "mimetype": "text/x-python",
   "name": "python",
   "nbconvert_exporter": "python",
   "pygments_lexer": "ipython3",
   "version": "3.8.2"
  }
 },
 "nbformat": 4,
 "nbformat_minor": 4
}
